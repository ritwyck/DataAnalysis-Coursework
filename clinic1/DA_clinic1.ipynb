{
  "cells": [
    {
      "cell_type": "markdown",
      "id": "7e3a9aff",
      "metadata": {
        "id": "7e3a9aff"
      },
      "source": [
        "Group #3\n",
        "\n",
        "Srikar Krishna Raja, Aryan Suri, Ritwik Srivastava\n",
        "\n",
        "i606047, i6303857, i6303400"
      ]
    },
    {
      "cell_type": "markdown",
      "id": "5d5ab070",
      "metadata": {
        "id": "5d5ab070"
      },
      "source": [
        "**Use of genAI tools (e.g. chatGPT), websites (e.g. stackoverflow)**: *list websites where you found code (or other info) as well as include information on how you used genAI tools*\n",
        "\n",
        "- Used Chatgpt for understanding mathematical components, sometimes code such as plotting code, looking things up, concepts, etc."
      ]
    },
    {
      "cell_type": "markdown",
      "id": "2a108445",
      "metadata": {
        "id": "2a108445"
      },
      "source": [
        "# Data Analysis, Clinic 1\n",
        "# FIETS: Fundamentele Innovatie En Technologie in Scholing\n",
        "## Met FIETS blijft het onderwijs vooruitgaan, zelfs tegen de wind in!\n",
        "\n",
        "---\n",
        "\n",
        "By completing and delivering the clinic tasks you will know how to :\n",
        "\n",
        "- Load data and handle data using pandas;\n",
        "- Navigate the documentation of Python packages by yourself;\n",
        "- Filter and tidy up **noisy** real-world datasets;\n",
        "- Aggregate your data in different (and hopefully helpful) ways;\n",
        "- Use EDA to learn more about your data\n",
        "- Create and interpret informative visualizations to explore the data set\n",
        "- Derive meaningful insights for the societal impact of datasets\n",
        "\n",
        "---\n",
        "**Important Dates.**\n",
        "\n",
        "- Clinic 1 release: Thu 30 Jan 2024\n",
        "- Clinic 1 due: Fri 07 Feb 2024 late night, wildcards available\n",
        "\n",
        "**Instructions for the deliverable:**\n",
        "\n",
        "* You are allowed to use any built-in Python library that comes with Anaconda. If you want to use an external library, you may do so, but must justify your choice.\n",
        "\n",
        "* Make sure that you include a proper amount/mix of comments, results and code. More specifically, be sure to provide a concise textual description of your thought process, the assumptions you made, the solution you implemented, and explanations for your answers. A notebook that only has code cells will not suffice. To avoid confusion: use short comments for longer code answers.\n",
        "\n",
        "* For questions containing the /Discuss:/ prefix, answer not with code, but with a textual explanation (in markdown).\n",
        "\n",
        "* Back up any hypotheses and claims with data, since this is an important aspect of the course.\n",
        "\n",
        "* Please write all your comments in English, and use meaningful variable names (as possible) in your code.\n",
        "\n",
        "* In the end, make sure that all cells are executed properly and everything you need to show is in your (execucted) notebook. We will not run your notebook for you!\n",
        "\n",
        "- In continuation to the previous point, interactive plots, such as those generated using the ‘plotly’ package, should be strictly avoided! Make sure to print results and/or dataframes that confirm you have properly addressed the task.\n",
        "\n",
        "* You are asked to deliver **only your executed notebook file, .ipnyb** and nothing else. If you deliver other files, we will not grade anything.\n",
        "\n",
        "* Honor code applies to these tasks. If you are not certain about an action, consult with Jerry.\n",
        "\n",
        "**A Note from Jerry on using Language Models (LMs)**\n",
        "\n",
        "If you try hard enough, you will likely get away with cheating (that does not only apply to LMs). Fortunately, my job is not to police, but rather to educate you. So, please consider the following:\n",
        "\n",
        "I assume that you are taking this course to learn something! LMs are not always right ([they often fail in silly ways](https://community.openai.com/t/why-9-11-is-larger-than-9-9-incredible/869824/4)). This course should prepare you to detect when they are wrong!\n",
        "\n",
        "I don't restrict the use of LMs because I see the value of being helped when coding (esp. in the context of pandas dataframes nightmare :)). Based on what we saw last year in your notebooks, it's pretty clear when you \"copy\" some code and then you struggle to interpret the results. This is the essence of this course and of the skills you should try build for yourself: Many people can run fancy models these days but not many people can interpret the results correctly. Try to be the latter ones.\n",
        "\n",
        "---"
      ]
    },
    {
      "cell_type": "markdown",
      "id": "f9b54879",
      "metadata": {
        "id": "f9b54879"
      },
      "source": [
        "## Context\n",
        "\n",
        "AI is booming! Newspapers, influencers and your relatives all agree that AI is important. But while almost everyone agrees that AI is the future, much is unclear about what that future esp. in critical sectors like education looks like...\n",
        "\n",
        "Freshly graduated from a top Dutch university in Limburg, you are hired by the Dutch government to advise on a large-scale “education innovation” initiative code-named \"FIETS\" (Flexibele Innovatie voor Efficiënte Toepassing in Scholing). With higher education facing severe budget cuts, the government is looking for creative solutions to \"do more with less.\" Convinced by the stunning progress in language modeling, officials believe LLMs could help battle growing teacher shortages and reduce costs by automating parts of the education process. Your job description: investigate which LMs might be best suited to plug the gaps without draining the budget!\n",
        "\n",
        "You are handed the results of three LMs on the [“Massive Multitask Language Understanding (MMLU)”](https://arxiv.org/abs/2009.03300) dataset  to compare. This famous dataset consists of 57 subjects with multiple-choice questions, covering diverse subjects like mathematics, computer science, history, and law. Most providers of state-of-the-art LMs use this dataset to showcase the versatility of their latest models. Unfortunately, the intern responsible for collecting the results, didn’t pay attention during DACS KEN3450: Data Analysis. As a result, the collected datasets are slightly corrupted. Jammer!\n",
        "\n",
        "The success of FIETS depends on your ability to make sense of the messy data and recommend the best model to keep the Dutch education system pedaling forward—despite uphill challenges like funding shortages and a skeptical academic community!\n",
        "\n",
        "### A very brief primer on Language Models\n",
        "We studied LLMs in the context of the NLP course but here is a short reminder. Language models (LMs) are sophisticated statistical models designed to understand and generate human-like text. At their core, LMs are trained to predict the most likely continuation of a given input text. For example, given the input \"The cat sat on the,\" an LM might predict \"mat\" as a likely continuation.\n",
        "LMs are trained on vast text samples from various sources, including books, websites, and social media. This extensive training allows them to capture patterns and relationships in language, enabling them to generate coherent and contextually appropriate text across a wide range of topics and styles.\n",
        "\n",
        "While LMs can produce text that appears to be written by intelligent humans, it's important to note that their capabilities can diverge from human intelligence in unexpected ways. They may sometimes generate factually incorrect information or struggle with complex reasoning tasks.\n",
        "\n",
        "Two key concepts in understanding LMs are:\n",
        "1. **Tokens**: LMs process text using \"tokens\" rather than individual characters. Tokens can be words, parts of words, or punctuation marks. For example, the sentence \"I love AI!\" might be tokenized as [\"I\", \"love\", \"AI\", \"!\"]. Tokenization is the first step in both training and using an LM.\n",
        "2. **Context**: The input text provided to an LM is called the \"context.\" This context informs the model's predictions or generations. A longer or more specific context often leads to more accurate and relevant outputs.\n",
        "\n",
        "[See: Wikipedia entry on language models](https://en.wikipedia.org/wiki/Large_language_model)\n",
        "\n",
        "###  Files for this assignment\n",
        "This assignment is divided into three tasks, each of which should bring you a step closer to providing a recommendation toward project the objectives of FIETS:\n",
        "\n",
        "- **Task 1**: Inspecting the results and getting your first model ranking\n",
        "- **Task 2**: Inspecting the underlying data used to generate the results for possible biases\n",
        "- **Task 3**: Learning about tokens and providing a final recommendation\n",
        "\n",
        "\n",
        "```\n",
        "📁 FIETS\n",
        "│\n",
        "├── 📄 clinic1.ipynb (the file you're currently reading!)\n",
        "│\n",
        "└── 📁 data\n",
        "    ├── 📁 task_1\n",
        "    ├── 📁 task_2\n",
        "    └── 📁 task_2.5\n",
        "```   \n"
      ]
    },
    {
      "cell_type": "code",
      "execution_count": 1,
      "id": "1c8fd700",
      "metadata": {
        "id": "1c8fd700"
      },
      "outputs": [],
      "source": [
        "# some basic imports\n",
        "import os\n",
        "import pandas as pd\n",
        "import numpy as np\n",
        "import matplotlib.pyplot as plt\n",
        "import warnings\n",
        "from scipy.stats import ttest_ind"
      ]
    },
    {
      "cell_type": "code",
      "source": [
        "!pip install gdown\n",
        "!gdown --folder https://drive.google.com/drive/folders/1Hj7y2EMlMsSMQskUHoCui5kzLSkb873h?usp=sharing -O /content/data\n"
      ],
      "metadata": {
        "id": "XiP4EcB4Ct6A",
        "colab": {
          "base_uri": "https://localhost:8080/"
        },
        "outputId": "65b1db37-3c69-4bb6-a752-fc5614d6eaa5"
      },
      "id": "XiP4EcB4Ct6A",
      "execution_count": 2,
      "outputs": [
        {
          "output_type": "stream",
          "name": "stdout",
          "text": [
            "Requirement already satisfied: gdown in /usr/local/lib/python3.11/dist-packages (5.2.0)\n",
            "Requirement already satisfied: beautifulsoup4 in /usr/local/lib/python3.11/dist-packages (from gdown) (4.13.1)\n",
            "Requirement already satisfied: filelock in /usr/local/lib/python3.11/dist-packages (from gdown) (3.17.0)\n",
            "Requirement already satisfied: requests[socks] in /usr/local/lib/python3.11/dist-packages (from gdown) (2.32.3)\n",
            "Requirement already satisfied: tqdm in /usr/local/lib/python3.11/dist-packages (from gdown) (4.67.1)\n",
            "Requirement already satisfied: soupsieve>1.2 in /usr/local/lib/python3.11/dist-packages (from beautifulsoup4->gdown) (2.6)\n",
            "Requirement already satisfied: typing-extensions>=4.0.0 in /usr/local/lib/python3.11/dist-packages (from beautifulsoup4->gdown) (4.12.2)\n",
            "Requirement already satisfied: charset-normalizer<4,>=2 in /usr/local/lib/python3.11/dist-packages (from requests[socks]->gdown) (3.4.1)\n",
            "Requirement already satisfied: idna<4,>=2.5 in /usr/local/lib/python3.11/dist-packages (from requests[socks]->gdown) (3.10)\n",
            "Requirement already satisfied: urllib3<3,>=1.21.1 in /usr/local/lib/python3.11/dist-packages (from requests[socks]->gdown) (2.3.0)\n",
            "Requirement already satisfied: certifi>=2017.4.17 in /usr/local/lib/python3.11/dist-packages (from requests[socks]->gdown) (2025.1.31)\n",
            "Requirement already satisfied: PySocks!=1.5.7,>=1.5.6 in /usr/local/lib/python3.11/dist-packages (from requests[socks]->gdown) (1.7.1)\n",
            "Retrieving folder contents\n",
            "Retrieving folder 1gQL3O3LWuKnZ7nmQovI-aTegfQD-vzTI task_1\n",
            "Retrieving folder 1GwxbzFhUosCbDslgUD4V6_23aPneHz3A lm_scores\n",
            "Processing file 1nQ_qGkW84EiiRaC4xYmKJGBhQ8nvP8S3 lm_X.csv\n",
            "Processing file 1T9VggeMe-lzd84sxVPuBUfze1ctElFKl lm_Y.csv\n",
            "Processing file 1zPccSA5J-hPykndpgsalotPEpRNnC7uz lm_Z.csv\n",
            "Retrieving folder 1QoY9Ddgnq-n6zimOdSwwyWnsZcYcIlNo mmlu_data\n",
            "Processing file 1FpB6TJjI_DNXbm3Gt30FRJBv9Wu_s7Te test.csv\n",
            "Processing file 1QR22Jx34IyJ7wlrsFpVlOJWEnPkDp3QU .DS_Store\n",
            "Retrieving folder 1Z1N7su7HezJa2cpzuvm1NglRgloOtEzL task_2\n",
            "Processing file 1or0e2fvX7Cd-gB1uBGs9O6HajAgHX-4_ lm_scores_mmlu.csv\n",
            "Processing file 1jQU4zfYVJyoeRdZkKGEOhuS9nB8oW-Tk lm_scores_other.csv\n",
            "Retrieving folder 16Li-kxl6E6QeNSYWhgUlZ5pD7IzC4PFh task_2_5\n",
            "Processing file 1URhJgkDgPdecdY64jOgXHScqr6UXpUH6 lm_scores_mmlu_shuffle.csv\n",
            "Processing file 1UjM-RTLAF9pha6QgpNhDqHrYqO08Z9wW .DS_Store\n",
            "Retrieving folder contents completed\n",
            "Building directory structure\n",
            "Building directory structure completed\n",
            "Downloading...\n",
            "From: https://drive.google.com/uc?id=1nQ_qGkW84EiiRaC4xYmKJGBhQ8nvP8S3\n",
            "To: /content/data/task_1/lm_scores/lm_X.csv\n",
            "100% 141k/141k [00:00<00:00, 86.5MB/s]\n",
            "Downloading...\n",
            "From: https://drive.google.com/uc?id=1T9VggeMe-lzd84sxVPuBUfze1ctElFKl\n",
            "To: /content/data/task_1/lm_scores/lm_Y.csv\n",
            "100% 145k/145k [00:00<00:00, 66.9MB/s]\n",
            "Downloading...\n",
            "From: https://drive.google.com/uc?id=1zPccSA5J-hPykndpgsalotPEpRNnC7uz\n",
            "To: /content/data/task_1/lm_scores/lm_Z.csv\n",
            "100% 163k/163k [00:00<00:00, 75.8MB/s]\n",
            "Downloading...\n",
            "From: https://drive.google.com/uc?id=1FpB6TJjI_DNXbm3Gt30FRJBv9Wu_s7Te\n",
            "To: /content/data/task_1/mmlu_data/test.csv\n",
            "100% 6.69M/6.69M [00:00<00:00, 172MB/s]\n",
            "Downloading...\n",
            "From: https://drive.google.com/uc?id=1QR22Jx34IyJ7wlrsFpVlOJWEnPkDp3QU\n",
            "To: /content/data/task_1/.DS_Store\n",
            "100% 6.15k/6.15k [00:00<00:00, 20.2MB/s]\n",
            "Downloading...\n",
            "From: https://drive.google.com/uc?id=1or0e2fvX7Cd-gB1uBGs9O6HajAgHX-4_\n",
            "To: /content/data/task_2/lm_scores_mmlu.csv\n",
            "100% 17.0M/17.0M [00:00<00:00, 87.2MB/s]\n",
            "Downloading...\n",
            "From: https://drive.google.com/uc?id=1jQU4zfYVJyoeRdZkKGEOhuS9nB8oW-Tk\n",
            "To: /content/data/task_2/lm_scores_other.csv\n",
            "100% 2.53M/2.53M [00:00<00:00, 47.6MB/s]\n",
            "Downloading...\n",
            "From: https://drive.google.com/uc?id=1URhJgkDgPdecdY64jOgXHScqr6UXpUH6\n",
            "To: /content/data/task_2_5/lm_scores_mmlu_shuffle.csv\n",
            "100% 17.0M/17.0M [00:00<00:00, 122MB/s] \n",
            "Downloading...\n",
            "From: https://drive.google.com/uc?id=1UjM-RTLAF9pha6QgpNhDqHrYqO08Z9wW\n",
            "To: /content/data/.DS_Store\n",
            "100% 8.20k/8.20k [00:00<00:00, 24.9MB/s]\n",
            "Download completed\n"
          ]
        }
      ]
    },
    {
      "cell_type": "markdown",
      "id": "bd2a7be4",
      "metadata": {
        "id": "bd2a7be4"
      },
      "source": [
        "## Task 1 (18 points): What's in an average anyway?\n",
        "\n",
        "The files needed to complete task 1 can be found in the folder \"`data/task_1/`:\n",
        "```\n",
        "task_1/\n",
        "│\n",
        "├── mmlu_data/\n",
        "│   └── test.csv\n",
        "│\n",
        "└── lm_scores/\n",
        "    ├── lm_X.csv\n",
        "    ├── lm_Y.csv\n",
        "    └── lm_Z.csv\n",
        "```\n",
        "\n",
        "We will start by loading, (manually) inspecting, and cleaning the data. Although it doesn't seem \"glamorous\" (nor is it particularly fun...) - manually inspecting data is extremely important! In fact, it's one of the few things most AI and Data Science researchers agree on :). Next, we will take a first pass on ordering our Olympic podium between three LMs."
      ]
    },
    {
      "cell_type": "markdown",
      "id": "16518de6",
      "metadata": {
        "id": "16518de6"
      },
      "source": [
        "### 1.1 (1 pt)\n",
        "\n",
        "Load the subfiles contained in the `mmlu_data` and `lm_scores` folders into separate dataframes:\n",
        "- `df_test`\n",
        "- `df_x`\n",
        "- `df_y`\n",
        "- `df_z`\n",
        "\n",
        "for each, print their sizes."
      ]
    },
    {
      "cell_type": "code",
      "execution_count": 3,
      "id": "80eabdcb",
      "metadata": {
        "id": "80eabdcb",
        "outputId": "ee418a8f-5a5b-4242-f181-5b3a1d886055",
        "colab": {
          "base_uri": "https://localhost:8080/"
        }
      },
      "outputs": [
        {
          "output_type": "stream",
          "name": "stdout",
          "text": [
            "df_test:  (14042, 8)\n",
            "df_x:  (13882, 2)\n",
            "df_y:  (13978, 2)\n",
            "df_z:  (13923, 2)\n"
          ]
        }
      ],
      "source": [
        "df_test = pd.read_csv('data/task_1/mmlu_data/test.csv')\n",
        "\n",
        "f = 'data/task_1/lm_scores/'\n",
        "df_x = pd.read_csv(os.path.join(f, 'lm_X.csv'))\n",
        "df_y = pd.read_csv(os.path.join(f, 'lm_Y.csv'))\n",
        "df_z = pd.read_csv(os.path.join(f, 'lm_Z.csv'))\n",
        "\n",
        "print('df_test: ', df_test.shape)\n",
        "print('df_x: ', df_x.shape)\n",
        "print('df_y: ', df_y.shape)\n",
        "print('df_z: ', df_z.shape)"
      ]
    },
    {
      "cell_type": "markdown",
      "id": "da14c5e2",
      "metadata": {
        "id": "da14c5e2"
      },
      "source": [
        "### 1.2 (4 pt)\n",
        "Unfortunately, LMs don't always output the format we want. In the column `result`, the value should be one of A, B, C, or D.\n",
        "\n",
        "A. For each of the LM score dataframes, use a `value_counts()` operation and print the results.\n",
        "\n",
        "B. /Discuss:/ Inspect the results and describe the types of answer formats you see. Besides the \"expected\" case, you should be able to find at least four unexpected formats."
      ]
    },
    {
      "cell_type": "code",
      "execution_count": 4,
      "id": "eeebdb42",
      "metadata": {
        "id": "eeebdb42",
        "colab": {
          "base_uri": "https://localhost:8080/"
        },
        "outputId": "9489924f-3f92-4955-942d-03c9f0f8b177"
      },
      "outputs": [
        {
          "output_type": "stream",
          "name": "stdout",
          "text": [
            "Value counts for df_x:\n",
            "result\n",
            "A                                                                                                                 2733\n",
            "A                                                                                                                 1657\n",
            "B                                                                                                                 1412\n",
            "Answer: A                                                                                                         1398\n",
            "C                                                                                                                 1134\n",
            "                                                                                                                  ... \n",
            "judicial activism, so the answer is A                                                                                1\n",
            "creating insurmountable obstacles to the founding of factions, so the answer is A                                    1\n",
            "A congressperson who retires to take a position teaching political science at a university, so the answer is A       1\n",
            "David Hume, so the answer is D                                                                                       1\n",
            "Brahminic orthodoxy, so the answer is A                                                                              1\n",
            "Name: count, Length: 145, dtype: int64 \n",
            "\n",
            "Value counts for df_y:\n",
            "result\n",
            "D                                                                                                2894\n",
            "Answer: D                                                                                        1718\n",
            "C                                                                                                1701\n",
            "B                                                                                                1240\n",
            "D                                                                                                1145\n",
            "                                                                                                 ... \n",
            "Where the energy of interaction between the atoms is at its minimum value, so the answer is A       1\n",
            "leaves more viable offspring than others of its species., so the answer is D                        1\n",
            "A and C only, so the answer is D                                                                    1\n",
            "ADP + P → ATP, so the answer is D                                                                   1\n",
            "Monoclonal antibodies, so the answer is C                                                           1\n",
            "Name: count, Length: 141, dtype: int64 \n",
            "\n",
            "Value counts for df_z:\n",
            "result\n",
            "D                                                                                   2257\n",
            "C                                                                                   2191\n",
            "B                                                                                   2127\n",
            "A                                                                                   2060\n",
            "Answer: D                                                                            777\n",
            "                                                                                    ... \n",
            "omission of a universal suffrage clause, so the answer is D                            1\n",
            "declare war, so the answer is D                                                        1\n",
            "state and local governments, by means of federal funding, so the answer is B           1\n",
            "less clearly identified with consistent political ideologies, so the answer is B       1\n",
            "Rahit, so the answer is B                                                              1\n",
            "Name: count, Length: 560, dtype: int64 \n",
            "\n"
          ]
        }
      ],
      "source": [
        "# A\n",
        "\n",
        "print(\"Value counts for df_x:\")\n",
        "print(df_x['result'].value_counts(), \"\\n\")\n",
        "\n",
        "print(\"Value counts for df_y:\")\n",
        "print(df_y['result'].value_counts(), \"\\n\")\n",
        "\n",
        "print(\"Value counts for df_z:\")\n",
        "print(df_z['result'].value_counts(), \"\\n\")\n"
      ]
    },
    {
      "cell_type": "markdown",
      "source": [
        "#B\n",
        "\n",
        "Unexpected Answer Formats in LM Outputs:\n",
        "1. Duplicate correct format with extra spaces or maybe newline.\n",
        "\n",
        "Example: \"A\" and \"A \" (appearing as separate values).\n",
        "\n",
        "2. Prefixed answers (\"Answer: X\")\n",
        "\n",
        "Example: \"Answer: A\", \"Answer: D\".\n",
        "\n",
        "3. Full sentences with the answer at the end\n",
        "\n",
        "Example: \"David Hume, so the answer is D\".\n",
        "\n",
        "4. Complex/multiple-choice responses which makes cleaning a bit harder.\n",
        "\n",
        "Example: \"A and C only, so the answer is D\", \"ADP + P → ATP, so the answer is D\"."
      ],
      "metadata": {
        "id": "RTtThxqLyjTc"
      },
      "id": "RTtThxqLyjTc"
    },
    {
      "cell_type": "markdown",
      "id": "98377d82",
      "metadata": {
        "id": "98377d82"
      },
      "source": [
        "### 1.3 (5 pt)\n",
        "Oh oh... That doesn't look great. Simply dropping all invalid answers seems overly wasteful, yet fixing all of these looks like a mess! Instead, let's focus for now on fixing just those answers of length < 10 characters that require only a single `str.replace()` operation.\n",
        "\n",
        "For example, if the answer looks like `--A--`, we could fix this by using the following simple function:\n",
        "\n",
        "```\n",
        "def clean_answer(s, pattern='-'):\n",
        "    return str(s).replace(pattern, '')\n",
        "\n",
        "dirty_answer = '--A--'\n",
        "clean_answer = clean_answer(dirty_answer)\n",
        "```\n",
        "\n",
        "A. Filter the three score dataframes to include only answers with less than 10 characters. Make a deep copy of the dataframes as you filter them.\n",
        "\n",
        "B. Modify the `clean_answer()` example function to clean the answers in the filtered data frames using the `apply()` functionality. Finally, make sure **all remaining answers are one of `A, B, C, or D`.**\n",
        "\n",
        "C. /Discuss:/ Compare the sizes of the original and filtered data frames. What do you see? Why might this be a problem?"
      ]
    },
    {
      "cell_type": "code",
      "execution_count": 5,
      "id": "5241d3d5",
      "metadata": {
        "id": "5241d3d5",
        "colab": {
          "base_uri": "https://localhost:8080/"
        },
        "outputId": "aca6e670-cdb8-4616-d359-80c1480a4390"
      },
      "outputs": [
        {
          "output_type": "stream",
          "name": "stdout",
          "text": [
            "df_x_filtered size: (13679, 2)\n",
            "df_y_filtered size: (13782, 2)\n",
            "df_z_filtered size: (13223, 2)\n"
          ]
        }
      ],
      "source": [
        "#A\n",
        "\n",
        "# Function to filter answers with less than 10 characters\n",
        "def filter_short_answers(df):\n",
        "    return df[df['result'].astype(str).str.len() < 10].copy(deep=True)\n",
        "\n",
        "# Filtered deep copies\n",
        "df_x_filtered = filter_short_answers(df_x)\n",
        "df_y_filtered = filter_short_answers(df_y)\n",
        "df_z_filtered = filter_short_answers(df_z)\n",
        "\n",
        "# Print sizes of the filtered dataframes\n",
        "print(f\"df_x_filtered size: {df_x_filtered.shape}\")\n",
        "print(f\"df_y_filtered size: {df_y_filtered.shape}\")\n",
        "print(f\"df_z_filtered size: {df_z_filtered.shape}\")\n"
      ]
    },
    {
      "cell_type": "code",
      "execution_count": 6,
      "id": "b2b23f54",
      "metadata": {
        "id": "b2b23f54",
        "colab": {
          "base_uri": "https://localhost:8080/"
        },
        "outputId": "71e65e9b-f726-4d82-9f83-22a283db73ef"
      },
      "outputs": [
        {
          "output_type": "stream",
          "name": "stdout",
          "text": [
            "df_x_filtered size after cleaning: (13436, 2)\n",
            "df_y_filtered size after cleaning: (13551, 2)\n",
            "df_z_filtered size after cleaning: (12753, 2)\n"
          ]
        }
      ],
      "source": [
        "# B\n",
        "\n",
        "\n",
        "\n",
        "def clean_answer(s):\n",
        "    \"\"\"\n",
        "    Cleans answers by removing unwanted characters and ensuring only A, B, C, or D remains.\n",
        "    \"\"\"\n",
        "    s = str(s).strip().replace(\"Answer: \", \"\")  # Remove prefixes\n",
        "    s = s.replace(\"-\", \"\").replace(\" \", \"\")  # Remove dashes and spaces\n",
        "    return s if s in {\"A\", \"B\", \"C\", \"D\"} else None  # Keep only valid answers\n",
        "\n",
        "# Apply cleaning function to the filtered dataframes\n",
        "df_x_filtered[\"result\"] = df_x_filtered[\"result\"].apply(clean_answer)\n",
        "df_y_filtered[\"result\"] = df_y_filtered[\"result\"].apply(clean_answer)\n",
        "df_z_filtered[\"result\"] = df_z_filtered[\"result\"].apply(clean_answer)\n",
        "\n",
        "# Drop rows where the result is now None (invalid values removed)\n",
        "df_x_filtered = df_x_filtered.dropna(subset=[\"result\"])\n",
        "df_y_filtered = df_y_filtered.dropna(subset=[\"result\"])\n",
        "df_z_filtered = df_z_filtered.dropna(subset=[\"result\"])\n",
        "\n",
        "# Print sizes after cleaning\n",
        "print(f\"df_x_filtered size after cleaning: {df_x_filtered.shape}\")\n",
        "print(f\"df_y_filtered size after cleaning: {df_y_filtered.shape}\")\n",
        "print(f\"df_z_filtered size after cleaning: {df_z_filtered.shape}\")\n",
        "\n"
      ]
    },
    {
      "cell_type": "code",
      "source": [
        "\n",
        "for df_name, df_orig, df_filt in [(\"df_x\", df_x, df_x_filtered),\n",
        "                                  (\"df_y\", df_y, df_y_filtered),\n",
        "                                  (\"df_z\", df_z, df_z_filtered)]:\n",
        "    loss = len(df_orig) - len(df_filt)\n",
        "    percent_loss = (loss / len(df_orig)) * 100\n",
        "    print(f\"{df_name}: {len(df_orig)} → {len(df_filt)} (loss: {loss} rows, ~{percent_loss:.2f}%)\")\n"
      ],
      "metadata": {
        "colab": {
          "base_uri": "https://localhost:8080/"
        },
        "id": "FwGPNcDcShTO",
        "outputId": "e91960fa-0517-4dc7-f9bb-045f3ddb5c83"
      },
      "id": "FwGPNcDcShTO",
      "execution_count": 7,
      "outputs": [
        {
          "output_type": "stream",
          "name": "stdout",
          "text": [
            "df_x: 13882 → 13436 (loss: 446 rows, ~3.21%)\n",
            "df_y: 13978 → 13551 (loss: 427 rows, ~3.05%)\n",
            "df_z: 13923 → 12753 (loss: 1170 rows, ~8.40%)\n"
          ]
        }
      ]
    },
    {
      "cell_type": "markdown",
      "id": "e33258d5",
      "metadata": {
        "id": "e33258d5"
      },
      "source": [
        "C. /Discuss:/\n",
        "\n",
        "#Data loss overview:\n",
        "\n",
        "- df_x: 13882 → 13436 (loss: 446 rows, ~3.2%)\n",
        "- df_y: 13978 → 13551 (loss: 427 rows, ~3.1%)\n",
        "- df_z: 13923 → 12753 (loss: 1170 rows, ~8.4%)\n",
        "\n",
        "df_z lost significantly more data (8.4%) compared to df_x and df_y (3%)\n",
        "\n",
        "# Why might this be a problem?\n",
        "\n",
        "##Potential Bias in Model Comparisons\n",
        "\n",
        "If one model (df_z) loses significantly more data than others, its performance might be misrepresented.\n",
        "The remaining data might be less diverse or not representative of the full test set.\n",
        "\n",
        "##Smaller Sample Size → Less Reliable Evaluation\n",
        "\n",
        "Since df_z now has 1170 fewer rows, it might not be directly comparable to the other models.\n",
        "If some subjects (e.g., history, mathematics) lost disproportionate data, it could skew performance results.\n",
        "\n",
        "##Loss of Edge Cases\n",
        "\n",
        "The removed rows might contain difficult or nuanced questions, affecting final accuracy comparisons.\n",
        "\n",
        "# What can we do to reduce the bias?\n",
        "\n",
        "Maybe we can normalize model performance when comparing results (e.g., accuracy as a proportion of remaining data after cleaning).\n"
      ]
    },
    {
      "cell_type": "markdown",
      "id": "4bda2920",
      "metadata": {
        "id": "4bda2920"
      },
      "source": [
        "### 1.4 (3 pt)\n",
        "\n",
        "Now that our answer columns are nicely formatted, let's take a look at model performance:\n",
        "\n",
        "A. Both the `MMLU` dataframes and the language model score data frames have the columns `question_id`. For each of the language model score data frames, use an inner join operation with the `df_test` dataframe on the `question_id` column.\n",
        "\n",
        "B. Add a new column to each of the resulting dataframes called `correct`, that checks if the model's answer in `result` is the same as the expected answer in the column `answer`. Then, print the average score of each model."
      ]
    },
    {
      "cell_type": "code",
      "execution_count": 8,
      "id": "5cfcb814",
      "metadata": {
        "id": "5cfcb814",
        "colab": {
          "base_uri": "https://localhost:8080/"
        },
        "outputId": "789a58c4-c8ac-4572-b729-aec2e5c41084"
      },
      "outputs": [
        {
          "output_type": "stream",
          "name": "stdout",
          "text": [
            "df_x_merged size: (13436, 9)\n",
            "df_y_merged size: (13551, 9)\n",
            "df_z_merged size: (12753, 9)\n"
          ]
        }
      ],
      "source": [
        "# A\n",
        "\n",
        "# Perform inner join on question_id\n",
        "df_x_merged = df_x_filtered.merge(df_test, on=\"question_id\", how=\"inner\", validate=\"one_to_one\")\n",
        "df_y_merged = df_y_filtered.merge(df_test, on=\"question_id\", how=\"inner\",  validate=\"one_to_one\")\n",
        "df_z_merged = df_z_filtered.merge(df_test, on=\"question_id\", how=\"inner\", validate=\"one_to_one\")\n",
        "\n",
        "# Print sizes of merged dataframes\n",
        "print(f\"df_x_merged size: {df_x_merged.shape}\")\n",
        "print(f\"df_y_merged size: {df_y_merged.shape}\")\n",
        "print(f\"df_z_merged size: {df_z_merged.shape}\")\n"
      ]
    },
    {
      "cell_type": "code",
      "execution_count": 9,
      "id": "4814bb7f",
      "metadata": {
        "id": "4814bb7f",
        "colab": {
          "base_uri": "https://localhost:8080/"
        },
        "outputId": "c2d1639d-8820-44da-90d9-811fb7ee7850"
      },
      "outputs": [
        {
          "output_type": "stream",
          "name": "stdout",
          "text": [
            "Model X Accuracy: 0.7675\n",
            "Model Y Accuracy: 0.7458\n",
            "Model Z Accuracy: 0.6633\n"
          ]
        }
      ],
      "source": [
        "# B\n",
        "\n",
        "# Add a new column 'correct' that checks if the model's answer matches the expected answer\n",
        "df_x_merged[\"correct\"] = df_x_merged[\"result\"] == df_x_merged[\"answer\"]\n",
        "df_y_merged[\"correct\"] = df_y_merged[\"result\"] == df_y_merged[\"answer\"]\n",
        "df_z_merged[\"correct\"] = df_z_merged[\"result\"] == df_z_merged[\"answer\"]\n",
        "\n",
        "# Calculate and print the average score (accuracy) for each model\n",
        "accuracy_x = df_x_merged[\"correct\"].mean()\n",
        "accuracy_y = df_y_merged[\"correct\"].mean()\n",
        "accuracy_z = df_z_merged[\"correct\"].mean()\n",
        "\n",
        "print(f\"Model X Accuracy: {accuracy_x:.4f}\")\n",
        "print(f\"Model Y Accuracy: {accuracy_y:.4f}\")\n",
        "print(f\"Model Z Accuracy: {accuracy_z:.4f}\")\n",
        "\n"
      ]
    },
    {
      "cell_type": "markdown",
      "id": "474d719d",
      "metadata": {
        "id": "474d719d"
      },
      "source": [
        "### 1.5 (5 pt)\n",
        "\n",
        "Hmmm, something doesn't seem quite right. Let's investigate how \"balanced\" this dataset is:\n",
        "\n",
        "A. For each of the 57 subjects in the MMLU, compare the number of questions answered by each model. Print the subjects for which there is a more than 10% difference.\n",
        "\n",
        "B. Propose and implement a reasonable way to rebalance the results. (e.g., while throwing away 100% of the results perfectly rebalances the results, it is not reasonable).\n",
        "\n",
        "C. Finally, print the updated accuracy on the rebalanced data.\n",
        "\n",
        "**hint:**:\n",
        "- (A) For a given subject, let model X and model Y have answered 181 and 200 questions respectively. You can consider this a 10% difference from the perspective of X, i.e., (200 - 181) / 181 > 0.10"
      ]
    },
    {
      "cell_type": "code",
      "execution_count": 10,
      "id": "1634b29a",
      "metadata": {
        "id": "1634b29a",
        "colab": {
          "base_uri": "https://localhost:8080/"
        },
        "outputId": "acbd2388-c7ac-47fd-b63a-675d1fdc81fb"
      },
      "outputs": [
        {
          "output_type": "stream",
          "name": "stdout",
          "text": [
            "Subjects with more than 10% difference in answered questions:\n",
            "{'moral disputes', 'formal logic', 'college chemistry', 'moral scenarios', 'computer security', 'logical fallacies', 'college computer science'}\n"
          ]
        }
      ],
      "source": [
        "#A\n",
        "\n",
        "\n",
        "\n",
        "# Count the number of questions per subject for each model\n",
        "subject_counts_x = df_x_merged[\"subject\"].value_counts()\n",
        "subject_counts_y = df_y_merged[\"subject\"].value_counts()\n",
        "subject_counts_z = df_z_merged[\"subject\"].value_counts()\n",
        "\n",
        "# Combine into a single dataframe for comparison\n",
        "subject_comparison = pd.DataFrame({\n",
        "    \"Model X\": subject_counts_x,\n",
        "    \"Model Y\": subject_counts_y,\n",
        "    \"Model Z\": subject_counts_z\n",
        "}).fillna(0)  # Fill missing subjects with 0\n",
        "\n",
        "# Identify subjects with more than 10% difference\n",
        "threshold = 0.10\n",
        "subjects_with_large_differences = []\n",
        "\n",
        "for subject in subject_comparison.index:\n",
        "    counts = subject_comparison.loc[subject]\n",
        "    for model_a, model_b in [(\"Model X\", \"Model Y\"), (\"Model X\", \"Model Z\"), (\"Model Y\", \"Model Z\")]:\n",
        "        if abs(counts[model_a] - counts[model_b]) / counts[model_a] > threshold:\n",
        "            subjects_with_large_differences.append(subject)\n",
        "            break  # No need to check further for this subject\n",
        "\n",
        "\n",
        "print(\"Subjects with more than 10% difference in answered questions:\")\n",
        "print(set(subjects_with_large_differences))\n"
      ]
    },
    {
      "cell_type": "code",
      "execution_count": 11,
      "id": "a7cc11b7",
      "metadata": {
        "id": "a7cc11b7",
        "colab": {
          "base_uri": "https://localhost:8080/"
        },
        "outputId": "855a39e9-1bb2-466c-c57c-99a7f8f1b834"
      },
      "outputs": [
        {
          "output_type": "stream",
          "name": "stdout",
          "text": [
            "df_x_balanced size: (13306, 10)\n",
            "df_y_balanced size: (13316, 10)\n",
            "df_z_balanced size: (12701, 10)\n"
          ]
        }
      ],
      "source": [
        "#B\n",
        "\n",
        "\n",
        "\n",
        "imbalanced_subjects = {'logical fallacies', 'college computer science', 'college chemistry',\n",
        "                       'formal logic', 'moral disputes', 'computer security', 'moral scenarios'}\n",
        "\n",
        "# Function to rebalance a model's dataframe\n",
        "def rebalance_model(df, subject_counts, min_counts):\n",
        "    rebalanced_df = df.copy()\n",
        "    for subject in imbalanced_subjects:\n",
        "        if subject in subject_counts:\n",
        "            max_keep = min_counts[subject]\n",
        "            if subject_counts[subject] > max_keep:\n",
        "                rebalanced_df = rebalanced_df[~(rebalanced_df[\"subject\"] == subject)]\n",
        "                rebalanced_df = pd.concat([rebalanced_df, df[df[\"subject\"] == subject].sample(n=max_keep, random_state=42)])\n",
        "    return rebalanced_df\n",
        "\n",
        "# Find minimum question count per subject across all models\n",
        "min_counts_per_subject = {subject: min(df_x_merged[\"subject\"].value_counts().get(subject, np.inf),\n",
        "                                       df_y_merged[\"subject\"].value_counts().get(subject, np.inf),\n",
        "                                       df_z_merged[\"subject\"].value_counts().get(subject, np.inf))\n",
        "                          for subject in imbalanced_subjects}\n",
        "\n",
        "# Apply rebalancing\n",
        "df_x_balanced = rebalance_model(df_x_merged, df_x_merged[\"subject\"].value_counts(), min_counts_per_subject)\n",
        "df_y_balanced = rebalance_model(df_y_merged, df_y_merged[\"subject\"].value_counts(), min_counts_per_subject)\n",
        "df_z_balanced = rebalance_model(df_z_merged, df_z_merged[\"subject\"].value_counts(), min_counts_per_subject)\n",
        "\n",
        "# Print new sizes after rebalancing\n",
        "print(f\"df_x_balanced size: {df_x_balanced.shape}\")\n",
        "print(f\"df_y_balanced size: {df_y_balanced.shape}\")\n",
        "print(f\"df_z_balanced size: {df_z_balanced.shape}\")\n",
        "\n",
        "\n"
      ]
    },
    {
      "cell_type": "code",
      "execution_count": 12,
      "id": "e558c3f8",
      "metadata": {
        "id": "e558c3f8",
        "colab": {
          "base_uri": "https://localhost:8080/"
        },
        "outputId": "7ab91964-d900-43e4-9171-e4e3a316d0da"
      },
      "outputs": [
        {
          "output_type": "stream",
          "name": "stdout",
          "text": [
            "Balanced Model X Accuracy: 0.7675\n",
            "Balanced Model Y Accuracy: 0.7464\n",
            "Balanced Model Z Accuracy: 0.6632\n"
          ]
        }
      ],
      "source": [
        "#C\n",
        "\n",
        "# Recalculate accuracy on the rebalanced datasets\n",
        "df_x_balanced[\"correct\"] = df_x_balanced[\"result\"] == df_x_balanced[\"answer\"]\n",
        "df_y_balanced[\"correct\"] = df_y_balanced[\"result\"] == df_y_balanced[\"answer\"]\n",
        "df_z_balanced[\"correct\"] = df_z_balanced[\"result\"] == df_z_balanced[\"answer\"]\n",
        "\n",
        "# Compute and print updated accuracy\n",
        "accuracy_x_balanced = df_x_balanced[\"correct\"].mean()\n",
        "accuracy_y_balanced = df_y_balanced[\"correct\"].mean()\n",
        "accuracy_z_balanced = df_z_balanced[\"correct\"].mean()\n",
        "\n",
        "print(f\"Balanced Model X Accuracy: {accuracy_x_balanced:.4f}\")\n",
        "print(f\"Balanced Model Y Accuracy: {accuracy_y_balanced:.4f}\")\n",
        "print(f\"Balanced Model Z Accuracy: {accuracy_z_balanced:.4f}\")\n"
      ]
    },
    {
      "cell_type": "markdown",
      "id": "1ae0547c",
      "metadata": {
        "id": "1ae0547c"
      },
      "source": [
        "## Task 2 (26 points): What do you mean A > D > B > C...?\n",
        "\n",
        "Nice work! Having successfully inspected, cleaned, and rebalanced the provided data, you head over to director of the government's FIETS project operating under the code name Geronimo. He is happy with your work so far, but worried that the sloppy intern might have done more undetected damage. To be sure, he orders a new set of evaluations of all models on both MMLU and another dataset.\n",
        "\n",
        "After cleaning up and rebalancing, you are left with the concatenated score files in the second folder `task_2`:\n",
        "```\n",
        "task_2/\n",
        "│\n",
        "└── lm_scores_mmlu.csv\n",
        "│\n",
        "└── lm_scores_other.csv\n",
        "```\n",
        "\n",
        "Each has a new column called `model_name`, which is one of `X, Y` or `Z`.\n",
        "\n",
        "\n",
        "\n",
        "_NOTE: **only** use data from `task_2` and `task_2_5` for this assignment! The values in `lm_scores_mmlu.csv` will NOT be the same as the dataframes you finished in task 1. This is due to \"randomness\" or \"temperature\" in language model inference. This can slightly shift around generative results. (Conveniently: it also ensures any mistakes made in Task 1 don't propogate further ;) )_"
      ]
    },
    {
      "cell_type": "code",
      "execution_count": 13,
      "id": "2067ebe2",
      "metadata": {
        "id": "2067ebe2"
      },
      "outputs": [],
      "source": [
        "# PROVIDED CODE\n",
        "df_mmlu = pd.read_csv('data/task_2/lm_scores_mmlu.csv')\n",
        "df_other = pd.read_csv('data/task_2/lm_scores_other.csv')"
      ]
    },
    {
      "cell_type": "markdown",
      "id": "d97ed869",
      "metadata": {
        "id": "d97ed869"
      },
      "source": [
        "### 2.1 (4 pt)\n",
        "\n",
        "Let's explore the new results:\n",
        "\n",
        "A. Compute the mean accuracy and standard errors of each model on both datasets and print the results.\n",
        "\n",
        "B. Then, show your results in a bar plot using standard errors with a 95% confidence interval around the mean. Make sure the plot is easy to read and well annotated.\n",
        "\n",
        "C. /Discuss:/ the plot you created: (i) can you say that one of the models is the best? (ii) is there anything that seems odd?"
      ]
    },
    {
      "cell_type": "code",
      "execution_count": 14,
      "id": "b69b5615",
      "metadata": {
        "id": "b69b5615",
        "colab": {
          "base_uri": "https://localhost:8080/"
        },
        "outputId": "d53e2623-6dcc-444b-8fbb-9b0a7059a9bd"
      },
      "outputs": [
        {
          "output_type": "stream",
          "name": "stdout",
          "text": [
            "MMLU Dataset Performance:\n",
            "Model X: Accuracy = 0.7436, SE = 0.0040\n",
            "Model Y: Accuracy = 0.7615, SE = 0.0039\n",
            "Model Z: Accuracy = 0.6560, SE = 0.0044\n",
            "\n",
            "Other Dataset Performance:\n",
            "Model X: Accuracy = 0.7880, SE = 0.0067\n",
            "Model Y: Accuracy = 0.7209, SE = 0.0073\n",
            "Model Z: Accuracy = 0.6717, SE = 0.0077\n"
          ]
        }
      ],
      "source": [
        "#A\n",
        "\n",
        "\n",
        "# Add 'correct' column to check if the model's answer matches the ground truth\n",
        "df_mmlu[\"correct\"] = df_mmlu[\"result\"] == df_mmlu[\"answer\"]\n",
        "df_other[\"correct\"] = df_other[\"result\"] == df_other[\"answer\"]\n",
        "\n",
        "# Compute mean accuracy and standard error for each model on both datasets\n",
        "accuracy_mmlu = df_mmlu.groupby(\"model_name\")[\"correct\"].mean()\n",
        "se_mmlu = df_mmlu.groupby(\"model_name\")[\"correct\"].sem()  # Standard error\n",
        "\n",
        "accuracy_other = df_other.groupby(\"model_name\")[\"correct\"].mean()\n",
        "se_other = df_other.groupby(\"model_name\")[\"correct\"].sem()\n",
        "\n",
        "# Print results\n",
        "print(\"MMLU Dataset Performance:\")\n",
        "for model in accuracy_mmlu.index:\n",
        "    print(f\"Model {model}: Accuracy = {accuracy_mmlu[model]:.4f}, SE = {se_mmlu[model]:.4f}\")\n",
        "\n",
        "print(\"\\nOther Dataset Performance:\")\n",
        "for model in accuracy_other.index:\n",
        "    print(f\"Model {model}: Accuracy = {accuracy_other[model]:.4f}, SE = {se_other[model]:.4f}\")\n"
      ]
    },
    {
      "cell_type": "code",
      "execution_count": 15,
      "id": "c4a5bffc",
      "metadata": {
        "id": "c4a5bffc",
        "colab": {
          "base_uri": "https://localhost:8080/",
          "height": 468
        },
        "outputId": "0d159112-e7e6-440f-9e40-f88df2282c41"
      },
      "outputs": [
        {
          "output_type": "display_data",
          "data": {
            "text/plain": [
              "<Figure size 800x500 with 1 Axes>"
            ],
            "image/png": "[encoded data removed]"
          },
          "metadata": {}
        }
      ],
      "source": [
        "#B\n",
        "\n",
        "\n",
        "\n",
        "# Prepare data for plotting\n",
        "models = accuracy_mmlu.index.tolist()\n",
        "mmlu_means = accuracy_mmlu.values\n",
        "mmlu_errors = se_mmlu.values\n",
        "other_means = accuracy_other.values\n",
        "other_errors = se_other.values\n",
        "\n",
        "x = range(len(models))  # X-axis positions\n",
        "\n",
        "# Create bar plot with error bars (95% confidence interval)\n",
        "fig, ax = plt.subplots(figsize=(8, 5))\n",
        "bar_width = 0.4\n",
        "\n",
        "ax.bar(x, mmlu_means, yerr=[1.96 * e for e in mmlu_errors], width=bar_width, capsize=5, label=\"MMLU\", alpha=0.7)\n",
        "ax.bar([i + bar_width for i in x], other_means, yerr=[1.96 * e for e in other_errors], width=bar_width, capsize=5, label=\"Other Dataset\", alpha=0.7)\n",
        "\n",
        "# Labels & Titles\n",
        "ax.set_xticks([i + bar_width / 2 for i in x])\n",
        "ax.set_xticklabels(models)\n",
        "ax.set_ylabel(\"Mean Accuracy\")\n",
        "ax.set_title(\"Model Accuracy with 95% Confidence Intervals\")\n",
        "ax.legend()\n",
        "\n",
        "# Show plot\n",
        "plt.grid(axis=\"y\", linestyle=\"--\", alpha=0.7)\n",
        "plt.show()"
      ]
    },
    {
      "cell_type": "markdown",
      "source": [
        "#C\n",
        "\n",
        "i) We cannot see which one is the best. Z isn't looking too good. Looking at the other dataset, X does best. Looking at MMLU, Y does best.\n",
        "\n",
        "The best model depends on the dataset—so without more context on which dataset is more important, it's unclear which model is actually better.\n",
        "\n",
        "ii) What seems odd is that Y does better on MMLU while the other two models both do better on the other dataset.\n",
        "\n",
        "The two datasets probably test very different things (e.g., factual recall vs reasoning).\n",
        "\n",
        "Dataset bias—other dataset might align less with how Model Y was trained."
      ],
      "metadata": {
        "id": "zs0TEYW6XQfZ"
      },
      "id": "zs0TEYW6XQfZ"
    },
    {
      "cell_type": "markdown",
      "id": "5587c824",
      "metadata": {
        "id": "5587c824"
      },
      "source": [
        "### 2.2 (5 pt)\n",
        "\n",
        "Geronimo has assured you that both datasets contain questions of similar difficulty, so, what could be going on here?\n",
        "\n",
        "A. What is the distribution of correct answers (A, B, C, D) for each dataset? Create a bar chart to visualize this.\n",
        "\n",
        "B. Perform a chi-square test at $\\alpha = 0.05$, of independence to determine if there's a significant difference in the distribution of correct answers between the two datasets. What do you conclude?\n",
        "\n",
        "**hints**:\n",
        "- for (A), keep in mind that df_mmlu and df_other contain the results of all models, i.e., the `question_id` column is duplicated.\n",
        "- for (A), take care to clearly annotate the bar chart, e.g., title, y-label, legend.\n",
        "- for (B), clearly state the null hypothesis and alternative hypothesis\n",
        "- use the `chi2_contingency` function from `scipy.stats`\n",
        "- format your results from answer (A) as a 2D array"
      ]
    },
    {
      "cell_type": "code",
      "execution_count": 16,
      "id": "74904507",
      "metadata": {
        "id": "74904507",
        "colab": {
          "base_uri": "https://localhost:8080/",
          "height": 481
        },
        "outputId": "b5c5d2a2-82e0-4fdb-be66-96cefc142125"
      },
      "outputs": [
        {
          "output_type": "display_data",
          "data": {
            "text/plain": [
              "<Figure size 600x400 with 1 Axes>"
            ],
            "image/png": "[encoded data removed]"
          },
          "metadata": {}
        },
        {
          "output_type": "execute_result",
          "data": {
            "text/plain": [
              "array([[3608, 2458],\n",
              "       [6264, 2386],\n",
              "       [7182, 1942],\n",
              "       [8222, 1411]])"
            ]
          },
          "metadata": {},
          "execution_count": 16
        }
      ],
      "source": [
        "#A\n",
        "\n",
        "\n",
        "\n",
        "correct_mmlu = df_mmlu[df_mmlu[\"correct\"]][\"answer\"].value_counts()\n",
        "correct_other = df_other[df_other[\"correct\"]][\"answer\"].value_counts()\n",
        "\n",
        "# Combine into a DataFrame for visualization\n",
        "correct_answers_df = pd.DataFrame({\n",
        "    \"MMLU\": correct_mmlu,\n",
        "    \"Other\": correct_other\n",
        "}).fillna(0)  # Fill missing values with 0\n",
        "\n",
        "# Convert to 2D array format\n",
        "correct_answers_array = correct_answers_df.to_numpy()\n",
        "\n",
        "# Create bar plot\n",
        "fig, ax = plt.subplots(figsize=(6, 4))\n",
        "correct_answers_df.plot(kind=\"bar\", ax=ax, alpha=0.75)\n",
        "ax.set_title(\"Distribution of Correct Answers (A, B, C, D)\")\n",
        "ax.set_ylabel(\"Count\")\n",
        "ax.set_xlabel(\"Answer Choice\")\n",
        "ax.legend([\"MMLU\", \"Other\"])\n",
        "plt.xticks(rotation=0)\n",
        "plt.grid(axis=\"y\", linestyle=\"--\", alpha=0.7)\n",
        "plt.show()\n",
        "\n",
        "# Display the formatted 2D array\n",
        "correct_answers_array\n"
      ]
    },
    {
      "cell_type": "code",
      "execution_count": 17,
      "id": "0c461f94",
      "metadata": {
        "id": "0c461f94",
        "colab": {
          "base_uri": "https://localhost:8080/"
        },
        "outputId": "199fa0f5-74bf-48ab-faaa-159d312e3d11"
      },
      "outputs": [
        {
          "output_type": "stream",
          "name": "stdout",
          "text": [
            "\n",
            "Chi-Square Test Results:\n",
            "Chi-Square Statistic: 1443.1619\n",
            "p-value: 0.0000000000\n",
            "Degrees of Freedom: 3\n",
            "Significant at α=0.05: Yes\n"
          ]
        }
      ],
      "source": [
        "#B\n",
        "\n",
        "from scipy.stats import chi2_contingency\n",
        "\n",
        "# (B) Chi-Square Test of Independence\n",
        "\n",
        "# Hypotheses:\n",
        "# H0 (Null Hypothesis): The distribution of correct answers (A, B, C, D) is the same across both datasets.\n",
        "# H1 (Alternative Hypothesis): The distribution of correct answers (A, B, C, D) is different between the datasets.\n",
        "\n",
        "# Perform chi-square test\n",
        "chi2_stat, p_value, dof, expected = chi2_contingency(correct_answers_array)\n",
        "\n",
        "# Print results\n",
        "chi2_results = {\n",
        "    \"Chi-Square Statistic\": chi2_stat,\n",
        "    \"p-value\": p_value,\n",
        "    \"Degrees of Freedom\": dof,\n",
        "    \"Significant at α=0.05\": p_value < 0.05\n",
        "}\n",
        "\n",
        "# Print chi-square test results normally\n",
        "print(\"\\nChi-Square Test Results:\")\n",
        "print(f\"Chi-Square Statistic: {chi2_stat:.4f}\")\n",
        "print(f\"p-value: {p_value:.10f}\")\n",
        "print(f\"Degrees of Freedom: {dof}\")\n",
        "print(f\"Significant at α=0.05: {'Yes' if p_value < 0.05 else 'No'}\")\n",
        "\n"
      ]
    },
    {
      "cell_type": "markdown",
      "source": [
        "The distribution of correct answers (A, B, C, D) is significantly different between the two datasets.\n",
        "This suggests that answer biases exist, which might affect model evaluation."
      ],
      "metadata": {
        "id": "07rbdCy6lnOL"
      },
      "id": "07rbdCy6lnOL"
    },
    {
      "cell_type": "markdown",
      "id": "c50f875f",
      "metadata": {
        "id": "c50f875f"
      },
      "source": [
        "### 2.3 (7 pt)\n",
        "\n",
        "Let's dive in deeper:\n",
        "\n",
        "A. What is language model X's mean accuracy conditioned on the four answer options for each dataset?\n",
        "\n",
        "B. Compare LM X's performance when the correct answer is \"A\" between the two datasets. Use a T-test with CI = 0.95. What do you conclude?\n",
        "\n",
        "C. Compare LM X's performance when the correct answer is \"A\" vs. \"C or D\" for each dataset. Use a T-test with CI = 0.95. What do you conclude?"
      ]
    },
    {
      "cell_type": "code",
      "execution_count": 18,
      "id": "f2b265e3",
      "metadata": {
        "id": "f2b265e3",
        "colab": {
          "base_uri": "https://localhost:8080/"
        },
        "outputId": "780bdd21-5d42-4dbb-d0b7-27cd8d91d8c0"
      },
      "outputs": [
        {
          "output_type": "stream",
          "name": "stdout",
          "text": [
            "\n",
            "Model X's Mean Accuracy by Answer Choice:\n",
            "            MMLU     Other\n",
            "answer                    \n",
            "A       0.972688  0.974026\n",
            "B       0.799185  0.806452\n",
            "C       0.707905  0.676407\n",
            "D       0.633592  0.603744\n"
          ]
        }
      ],
      "source": [
        "#A\n",
        "\n",
        "\n",
        "\n",
        "\n",
        "# Filter only Model X's responses\n",
        "df_x_mmlu = df_mmlu[df_mmlu[\"model_name\"] == \"X\"]\n",
        "df_x_other = df_other[df_other[\"model_name\"] == \"X\"]\n",
        "\n",
        "# Compute mean accuracy per answer choice for each dataset\n",
        "accuracy_x_mmlu = df_x_mmlu.groupby(\"answer\")[\"correct\"].mean()\n",
        "accuracy_x_other = df_x_other.groupby(\"answer\")[\"correct\"].mean()\n",
        "\n",
        "# Combine results into a dataframe\n",
        "accuracy_x_df = pd.DataFrame({\n",
        "    \"MMLU\": accuracy_x_mmlu,\n",
        "    \"Other\": accuracy_x_other\n",
        "}).fillna(0)  # Fill missing values with 0\n",
        "\n",
        "# Print results\n",
        "print(\"\\nModel X's Mean Accuracy by Answer Choice:\")\n",
        "print(accuracy_x_df)\n"
      ]
    },
    {
      "cell_type": "code",
      "execution_count": 19,
      "id": "1e31fdd8",
      "metadata": {
        "id": "1e31fdd8",
        "colab": {
          "base_uri": "https://localhost:8080/"
        },
        "outputId": "3e97a629-e846-4d54-f75b-1f7834a42531"
      },
      "outputs": [
        {
          "output_type": "stream",
          "name": "stdout",
          "text": [
            "\n",
            "T-Test Results for Model X's Accuracy on Answer 'A':\n",
            "T-Statistic: -0.2116\n",
            "p-value: 0.8324287724\n",
            "Significant at α=0.05: No\n"
          ]
        }
      ],
      "source": [
        "#B\n",
        "\n",
        "from scipy.stats import ttest_ind\n",
        "\n",
        "\n",
        "\n",
        "# Get Model X's \"correct\" values when the correct answer is \"A\" for both datasets\n",
        "x_correct_mmlu_A = df_x_mmlu[df_x_mmlu[\"answer\"] == \"A\"][\"correct\"]\n",
        "x_correct_other_A = df_x_other[df_x_other[\"answer\"] == \"A\"][\"correct\"]\n",
        "\n",
        "# Perform independent T-test\n",
        "t_stat, p_value = ttest_ind(x_correct_mmlu_A, x_correct_other_A, equal_var=False)\n",
        "\n",
        "# Define hypotheses:\n",
        "# H0 (Null Hypothesis): There is no significant difference in Model X's accuracy when the correct answer is \"A\" between the two datasets.\n",
        "# H1 (Alternative Hypothesis): Model X's accuracy is significantly different for \"A\" between the datasets.\n",
        "\n",
        "# Print results\n",
        "print(\"\\nT-Test Results for Model X's Accuracy on Answer 'A':\")\n",
        "print(f\"T-Statistic: {t_stat:.4f}\")\n",
        "print(f\"p-value: {p_value:.10f}\")\n",
        "print(f\"Significant at α=0.05: {'Yes' if p_value < 0.05 else 'No'}\")\n"
      ]
    },
    {
      "cell_type": "markdown",
      "source": [
        "There is no significant difference in Model X’s accuracy when the correct answer is \"A\" between MMLU and the Other dataset.\n",
        "This means Model X is equally good at recognizing \"A\" in both datasets, and answer distribution is likely not affecting its performance on \"A\"."
      ],
      "metadata": {
        "id": "dAhHS6rqoXx7"
      },
      "id": "dAhHS6rqoXx7"
    },
    {
      "cell_type": "code",
      "execution_count": 20,
      "id": "8f0ecae0",
      "metadata": {
        "id": "8f0ecae0",
        "colab": {
          "base_uri": "https://localhost:8080/"
        },
        "outputId": "e136fca6-52b1-4112-a520-749ef40d46ed"
      },
      "outputs": [
        {
          "output_type": "stream",
          "name": "stdout",
          "text": [
            "\n",
            "T-Test Results for Model X's Accuracy on 'A' vs. 'C or D':\n",
            "\n",
            "MMLU Dataset:\n",
            "T-Statistic: 44.0588\n",
            "p-value: 0.0000000000\n",
            "Significant at α=0.05: Yes\n",
            "\n",
            "Other Dataset:\n",
            "T-Statistic: 25.1395\n",
            "p-value: 0.0000000000\n",
            "Significant at α=0.05: Yes\n"
          ]
        }
      ],
      "source": [
        "#C\n",
        "\n",
        "\n",
        "\n",
        "# Get Model X's \"correct\" values when the correct answer is \"A\" vs. \"C or D\" for both datasets\n",
        "x_correct_mmlu_A = df_x_mmlu[df_x_mmlu[\"answer\"] == \"A\"][\"correct\"]\n",
        "x_correct_mmlu_CD = df_x_mmlu[df_x_mmlu[\"answer\"].isin([\"C\", \"D\"])][\"correct\"]\n",
        "\n",
        "x_correct_other_A = df_x_other[df_x_other[\"answer\"] == \"A\"][\"correct\"]\n",
        "x_correct_other_CD = df_x_other[df_x_other[\"answer\"].isin([\"C\", \"D\"])][\"correct\"]\n",
        "\n",
        "# Perform independent T-tests\n",
        "t_stat_mmlu, p_value_mmlu = ttest_ind(x_correct_mmlu_A, x_correct_mmlu_CD, equal_var=False)\n",
        "t_stat_other, p_value_other = ttest_ind(x_correct_other_A, x_correct_other_CD, equal_var=False)\n",
        "\n",
        "# Define hypotheses:\n",
        "# H0 (Null Hypothesis): Model X's accuracy is the same for \"A\" and \"C or D\" in each dataset.\n",
        "# H1 (Alternative Hypothesis): Model X's accuracy is significantly different for \"A\" vs. \"C or D\".\n",
        "\n",
        "# Print results\n",
        "print(\"\\nT-Test Results for Model X's Accuracy on 'A' vs. 'C or D':\")\n",
        "\n",
        "print(\"\\nMMLU Dataset:\")\n",
        "print(f\"T-Statistic: {t_stat_mmlu:.4f}\")\n",
        "print(f\"p-value: {p_value_mmlu:.10f}\")\n",
        "print(f\"Significant at α=0.05: {'Yes' if p_value_mmlu < 0.05 else 'No'}\")\n",
        "\n",
        "print(\"\\nOther Dataset:\")\n",
        "print(f\"T-Statistic: {t_stat_other:.4f}\")\n",
        "print(f\"p-value: {p_value_other:.10f}\")\n",
        "print(f\"Significant at α=0.05: {'Yes' if p_value_other < 0.05 else 'No'}\")\n"
      ]
    },
    {
      "cell_type": "code",
      "source": [
        "# Compute mean accuracy for \"A\" and \"C/D\" in MMLU\n",
        "mean_accuracy_mmlu_A = x_correct_mmlu_A.mean()\n",
        "mean_accuracy_mmlu_CD = x_correct_mmlu_CD.mean()\n",
        "\n",
        "# Compute mean accuracy for \"A\" and \"C/D\" in Other dataset\n",
        "mean_accuracy_other_A = x_correct_other_A.mean()\n",
        "mean_accuracy_other_CD = x_correct_other_CD.mean()\n",
        "\n",
        "# Print results\n",
        "print(\"\\nMean Accuracy for Model X:\")\n",
        "\n",
        "print(\"\\nMMLU Dataset:\")\n",
        "print(f\"Mean Accuracy when correct answer is 'A': {mean_accuracy_mmlu_A:.4f}\")\n",
        "print(f\"Mean Accuracy when correct answer is 'C or D': {mean_accuracy_mmlu_CD:.4f}\")\n",
        "\n",
        "print(\"\\nOther Dataset:\")\n",
        "print(f\"Mean Accuracy when correct answer is 'A': {mean_accuracy_other_A:.4f}\")\n",
        "print(f\"Mean Accuracy when correct answer is 'C or D': {mean_accuracy_other_CD:.4f}\")\n"
      ],
      "metadata": {
        "colab": {
          "base_uri": "https://localhost:8080/"
        },
        "id": "SjvcEuhWp1tW",
        "outputId": "fef080b0-0b56-455a-af95-5531c6fd9241"
      },
      "id": "SjvcEuhWp1tW",
      "execution_count": 21,
      "outputs": [
        {
          "output_type": "stream",
          "name": "stdout",
          "text": [
            "\n",
            "Mean Accuracy for Model X:\n",
            "\n",
            "MMLU Dataset:\n",
            "Mean Accuracy when correct answer is 'A': 0.9727\n",
            "Mean Accuracy when correct answer is 'C or D': 0.6690\n",
            "\n",
            "Other Dataset:\n",
            "Mean Accuracy when correct answer is 'A': 0.9740\n",
            "Mean Accuracy when correct answer is 'C or D': 0.6466\n"
          ]
        }
      ]
    },
    {
      "cell_type": "markdown",
      "source": [
        "Model X is significantly better at recognizing \"A\" as the correct answer compared to \"C or D\" in both datasets."
      ],
      "metadata": {
        "id": "VRgWbG2AqFLa"
      },
      "id": "VRgWbG2AqFLa"
    },
    {
      "cell_type": "markdown",
      "id": "2e1d7754",
      "metadata": {
        "id": "2e1d7754"
      },
      "source": [
        "### 2.4 (2 pt)\n",
        "\n",
        "What an intriguing finding!\n",
        "\n",
        "A. Print the mean accuracies conditioned on the correct answer for all LMs for each dataset.\n",
        "\n",
        "B. /Discuss:/ What do you observe?"
      ]
    },
    {
      "cell_type": "code",
      "execution_count": 22,
      "id": "77801937",
      "metadata": {
        "id": "77801937",
        "colab": {
          "base_uri": "https://localhost:8080/"
        },
        "outputId": "0d345e6a-3cda-4eaa-b564-1c3f56f9b5dd"
      },
      "outputs": [
        {
          "output_type": "stream",
          "name": "stdout",
          "text": [
            "\n",
            "Mean Accuracies Conditioned on Correct Answer for All Models:\n",
            "                MMLU                                   Other            \\\n",
            "answer             A         B         C         D         A         B   \n",
            "model_name                                                               \n",
            "X           0.972688  0.799185  0.707905  0.633592  0.974026  0.806452   \n",
            "Y           0.623836  0.688073  0.733470  0.904252  0.625232  0.663978   \n",
            "Z           0.643079  0.641182  0.669115  0.661139  0.680891  0.667563   \n",
            "\n",
            "                                \n",
            "answer             C         D  \n",
            "model_name                      \n",
            "X           0.676407  0.603744  \n",
            "Y           0.762987  0.920437  \n",
            "Z           0.662338  0.677067  \n"
          ]
        }
      ],
      "source": [
        "#A\n",
        "\n",
        "\n",
        "# Group by model and correct answer, then compute mean accuracy\n",
        "accuracy_per_model_mmlu = df_mmlu.groupby([\"model_name\", \"answer\"])[\"correct\"].mean().unstack()\n",
        "accuracy_per_model_other = df_other.groupby([\"model_name\", \"answer\"])[\"correct\"].mean().unstack()\n",
        "\n",
        "# Combine results into a dataframe for comparison\n",
        "accuracy_all_models_df = pd.concat([accuracy_per_model_mmlu, accuracy_per_model_other], keys=[\"MMLU\", \"Other\"], axis=1)\n",
        "\n",
        "# Print results\n",
        "print(\"\\nMean Accuracies Conditioned on Correct Answer for All Models:\")\n",
        "print(accuracy_all_models_df)\n"
      ]
    },
    {
      "cell_type": "markdown",
      "id": "e812af06",
      "metadata": {
        "id": "e812af06"
      },
      "source": [
        "B. /Discuss:/\n",
        "\n",
        "- Model X is highly accurate when the correct answer is \"A\" but weaker on \"D\".\n",
        "- Model Y is the opposite—stronger on \"D\" but weaker on \"A\".\n",
        "- Model Z is consistently weaker than X and Y."
      ]
    },
    {
      "cell_type": "markdown",
      "id": "31947726",
      "metadata": {
        "id": "31947726"
      },
      "source": [
        "### 2.5 (2 pt)\n",
        "\n",
        "Concerned with your findings so far, you quickly consult with Geronimo. After thinking it over, Geronimo concludes that more tests are needed. He orders a second round of MMLU results. However, Geronimo thinks of the following twist: while keeping questions fixed, he randomly permutes the position of the correct answer. The new results can be found in the folder `data/task_2_5/`:\n",
        "```\n",
        "task_2_5/\n",
        "│\n",
        "└── lm_scores_mmlu_shuffle.csv\n",
        "```\n",
        "\n",
        "/Discuss:/ Why would Geronimo do this?"
      ]
    },
    {
      "cell_type": "markdown",
      "id": "ca1ffc90",
      "metadata": {
        "id": "ca1ffc90"
      },
      "source": [
        "B. /Discuss:/"
      ]
    },
    {
      "cell_type": "markdown",
      "source": [
        "Geronimo is likely testing for positional bias in the language models—whether the models rely on the answer letter (A, B, C, D) rather than truly understanding the question.\n",
        "\n",
        "From our previous analysis, Model X was significantly better at \"A\" and worse at \"D\".\n",
        "If this pattern remains even after shuffling the correct answers, it suggests that Model X is biased toward choosing \"A\", rather than actually reasoning out the answer."
      ],
      "metadata": {
        "id": "6iAMVDQ1zC7X"
      },
      "id": "6iAMVDQ1zC7X"
    },
    {
      "cell_type": "markdown",
      "id": "bb158adf",
      "metadata": {
        "id": "bb158adf"
      },
      "source": [
        "### 2.6 (4 pt)\n",
        "\n",
        "Increasingly sceptical of the language models' performance, you read up on proper testing practices. You stumble upon the concept of [test-rested stability](https://en.wikipedia.org/wiki/Repeatability), which roughtly states that:\n",
        "\n",
        "\"_Measurements taken by a single person or instrument on the same item, under the same conditions, and in a short period of time, should have the same results._\"\n",
        "\n",
        "In our case, we would assume an LM would have the same performance on a given question regardless of the correct answer position. One way of testing this is by using the following metric:\n",
        "\n",
        "$$\\text{test-retest metric} = \\frac{1}{N}\\sum_{i=1}^N \\frac{1}{M}\\sum_{j=1}^M c^i_0 c_j^i,$$\n",
        "\n",
        "where $c^i_0 \\in \\{0, 1\\}$ indicates whether the model answers the $i^{\\text{th}}$ question correctly (1 if correct, 0 if incorrect). $c_j^i$ indicates whether the model answers the $i^{\\text{th}}$ question correctly in the $j^{\\text{th}}$ shuffled version of the answer label content. Finally, $M$ is the total number of shuffles and $N$ is the dataset size.\n",
        "\n",
        "Task: compute the test-retest metric for each language model using the original `lm_scores_mmlu.csv` file and the new `lm_scores_mmlu_shuffle.csv` file. Using a bar plot, visualize your results by comparing the accuracy of the original `lm_scores_mmlu.csv` and the test-retest scores.\n",
        "\n",
        "**hints**\n",
        "- what is $M$ in our case?\n",
        "\n",
        "(bonus: no points, but so much sweet, sweet knowledge - check out [the following article](https://arxiv.org/pdf/2406.19470v1))"
      ]
    },
    {
      "cell_type": "code",
      "execution_count": 23,
      "id": "46ce6153",
      "metadata": {
        "id": "46ce6153",
        "colab": {
          "base_uri": "https://localhost:8080/",
          "height": 447
        },
        "outputId": "4a89f832-0b52-4c50-b548-8db79eaec06f"
      },
      "outputs": [
        {
          "output_type": "stream",
          "name": "stderr",
          "text": [
            "<ipython-input-23-f5f559f2a22c>:16: DeprecationWarning: DataFrameGroupBy.apply operated on the grouping columns. This behavior is deprecated, and in a future version of pandas the grouping columns will be excluded from the operation. Either pass `include_groups=False` to exclude the groupings or explicitly select the grouping columns after groupby to silence this warning.\n",
            "  test_retest_scores = df_merged.groupby(\"model_name\").apply(\n"
          ]
        },
        {
          "output_type": "display_data",
          "data": {
            "text/plain": [
              "<Figure size 600x400 with 1 Axes>"
            ],
            "image/png": "[encoded data removed]"
          },
          "metadata": {}
        }
      ],
      "source": [
        "#fancy code\n",
        "\n",
        "\n",
        "# Load original and shuffled MMLU results\n",
        "df_mmlu = pd.read_csv(\"data/task_2/lm_scores_mmlu.csv\")\n",
        "df_mmlu_shuffle = pd.read_csv(\"data/task_2_5/lm_scores_mmlu_shuffle.csv\")\n",
        "\n",
        "\n",
        "df_mmlu[\"correct\"] = df_mmlu[\"result\"] == df_mmlu[\"answer\"]\n",
        "df_mmlu_shuffle[\"correct\"] = df_mmlu_shuffle[\"result\"] == df_mmlu_shuffle[\"answer\"]\n",
        "\n",
        "# Merge the two datasets on question_id and model_name\n",
        "df_merged = df_mmlu.merge(df_mmlu_shuffle, on=[\"question_id\", \"model_name\"], suffixes=(\"_orig\", \"_shuffled\"))\n",
        "\n",
        "# Compute the test-retest metric for each model\n",
        "test_retest_scores = df_merged.groupby(\"model_name\").apply(\n",
        "    lambda g: (g[\"correct_orig\"] * g[\"correct_shuffled\"]).sum() / len(g)\n",
        ")\n",
        "\n",
        "\n",
        "original_accuracies = df_mmlu.groupby(\"model_name\")[\"correct\"].mean()\n",
        "\n",
        "\n",
        "fig, ax = plt.subplots(figsize=(6, 4))\n",
        "bar_width = 0.4\n",
        "x = range(len(original_accuracies))\n",
        "\n",
        "ax.bar(x, original_accuracies, width=bar_width, label=\"Original Accuracy\", alpha=0.7)\n",
        "ax.bar([i + bar_width for i in x], test_retest_scores, width=bar_width, label=\"Test-Retest Score\", alpha=0.7)\n",
        "\n",
        "ax.set_xticks([i + bar_width / 2 for i in x])\n",
        "ax.set_xticklabels(original_accuracies.index)\n",
        "ax.set_ylabel(\"Score\")\n",
        "ax.set_title(\"Test-Retest Stability vs. Original Accuracy\")\n",
        "ax.legend()\n",
        "\n",
        "plt.grid(axis=\"y\", linestyle=\"--\", alpha=0.7)\n",
        "plt.show()\n"
      ]
    },
    {
      "cell_type": "markdown",
      "id": "62d52d93",
      "metadata": {
        "id": "62d52d93"
      },
      "source": [
        "### 2.7 (2 pt)\n",
        "\n",
        "A. Using the unshuffled data: For each LM, print the distribution of the answers they give as well as the accuracy conditioned on the answer they give.\n",
        "\n",
        "B. /Discuss:/ Describe what you observe\n",
        "\n",
        "[bonus: not scored, but again _that sweet, sweet knowledge_] Could you think of a plausible explanation?"
      ]
    },
    {
      "cell_type": "code",
      "execution_count": 24,
      "id": "579c30cf",
      "metadata": {
        "id": "579c30cf",
        "colab": {
          "base_uri": "https://localhost:8080/"
        },
        "outputId": "0dea69fd-d944-4c6f-c2ad-557a752cd353"
      },
      "outputs": [
        {
          "output_type": "stream",
          "name": "stdout",
          "text": [
            "\n",
            "Distribution of Answers Given by Each LM:\n",
            "result             A         B         C         D\n",
            "model_name                                        \n",
            "X           0.364142  0.227343  0.205968  0.202548\n",
            "Y           0.091655  0.192886  0.257780  0.457678\n",
            "Z           0.186047  0.246666  0.276761  0.290527\n",
            "\n",
            "Accuracy Conditioned on the Answer Given:\n",
            "result             A         B         C         D\n",
            "model_name                                        \n",
            "X           0.367927  0.884543  1.000000  1.000000\n",
            "Y           0.937500  0.897606  0.827861  0.631608\n",
            "Z           0.476103  0.654073  0.703429  0.727487\n"
          ]
        }
      ],
      "source": [
        "#A\n",
        "\n",
        "\n",
        "# Count how often each LM gives each answer (A, B, C, D)\n",
        "answer_distribution = df_mmlu.groupby(\"model_name\")[\"result\"].value_counts(normalize=True).unstack()\n",
        "\n",
        "# Compute accuracy conditioned on the answer given\n",
        "accuracy_per_answer = df_mmlu.groupby([\"model_name\", \"result\"])[\"correct\"].mean().unstack()\n",
        "\n",
        "# Print results\n",
        "print(\"\\nDistribution of Answers Given by Each LM:\")\n",
        "print(answer_distribution)\n",
        "\n",
        "print(\"\\nAccuracy Conditioned on the Answer Given:\")\n",
        "print(accuracy_per_answer)\n"
      ]
    },
    {
      "cell_type": "markdown",
      "id": "e9b4c2e8",
      "metadata": {
        "id": "e9b4c2e8"
      },
      "source": [
        "B. /Discuss:/\n",
        "\n",
        "- Model X strongly favors \"A\" (36.4%), followed by \"B\" (22.7%), with relatively balanced use of \"C\" and \"D.\"  \n",
        "\n",
        "- Model Y rarely chooses \"A\" (only 9%) but selects \"D\" most often (45.7%).\n",
        "\n",
        "\n",
        "- Model X is extremely inconsistent:\n",
        "It has 100% accuracy when selecting \"C\" or \"D\" (which looks suspicious).\n",
        "But its accuracy for \"A\" (which it picks most often) is only 36.8%, much lower than for other choices.\n",
        "- Model Z is the most balanced but also the weakest overall."
      ]
    },
    {
      "cell_type": "markdown",
      "id": "2d45a77b",
      "metadata": {
        "id": "2d45a77b"
      },
      "source": [
        "## Task 3 (16 points): What do Questions and Answers look like for a Language Model?\n",
        "\n",
        "While you feel pretty good about the tests you conducted so far, something still bothers you: what if the language models don't see the data like you do? Suddenly, you receive a phone call from a wise AI sage based in Maastricht named Yodata:\n",
        "\n",
        "```\n",
        "\"Hmmm, correct you are, jonge padawan, to question how the wereld is seen by large language models! Simple 'text,' it is not, nee nee nee! Characters and words, the way of gewone humans, this is not, heh heh heh.\n",
        "\n",
        "'Tokens,' they use, ja! Mysterious and powerful, these tokens are. Expand our vocabulary, they do, beyond the simple 'a to Z.' Chunky blocks of text, they become, yes! 'Hello world,' a simple phrase it may seem. But to a language model, '[24912, 2375]' it might appear, hmm? Verwarrend, it is!\n",
        "\n",
        "Wise, it would be, to explore these MMLU data points through the eyes of a language model, you think? Yes, yes! Much to learn, there is. The ways of the tokens, understand you must, if truly comprehend the great LMs, you wish to.\n",
        "\n",
        "Meditate on this, you should. The force of natural language processing, strong it is. But geduld, you must have, my jonge padawan. For only through great study and contemplation, will the mysteries of the tokens reveal themselves to you, they will. Ja, hmmm!\"\n",
        "```\n",
        "\n",
        "Admittingly, Yodata at times speaks in riddles... However, he was explaining a crucial aspect of modern LMs called [Tokenization](https://learn.microsoft.com/en-us/dotnet/ai/conceptual/understanding-tokens):\n",
        "\n",
        "\n",
        "“Tokens are words, character sets, or combinations of words and punctuation that are used by [language models (LMs)] to decompose text into. Tokenization is the first step in training”\n",
        "\n",
        "Instead of characters, LMs process natural language using “tokens”. While this is useful for a number of reasons, it does at times introduce some “unintuitive” behavior…"
      ]
    },
    {
      "cell_type": "code",
      "execution_count": 25,
      "id": "001c4c53",
      "metadata": {
        "id": "001c4c53",
        "outputId": "36ebdef9-2e25-425a-ff9e-d10d9890e0ba",
        "colab": {
          "base_uri": "https://localhost:8080/"
        }
      },
      "outputs": [
        {
          "output_type": "stream",
          "name": "stdout",
          "text": [
            "installing tiktoken package\n",
            "Collecting tiktoken\n",
            "  Downloading tiktoken-0.8.0-cp311-cp311-manylinux_2_17_x86_64.manylinux2014_x86_64.whl.metadata (6.6 kB)\n",
            "Requirement already satisfied: regex>=2022.1.18 in /usr/local/lib/python3.11/dist-packages (from tiktoken) (2024.11.6)\n",
            "Requirement already satisfied: requests>=2.26.0 in /usr/local/lib/python3.11/dist-packages (from tiktoken) (2.32.3)\n",
            "Requirement already satisfied: charset-normalizer<4,>=2 in /usr/local/lib/python3.11/dist-packages (from requests>=2.26.0->tiktoken) (3.4.1)\n",
            "Requirement already satisfied: idna<4,>=2.5 in /usr/local/lib/python3.11/dist-packages (from requests>=2.26.0->tiktoken) (3.10)\n",
            "Requirement already satisfied: urllib3<3,>=1.21.1 in /usr/local/lib/python3.11/dist-packages (from requests>=2.26.0->tiktoken) (2.3.0)\n",
            "Requirement already satisfied: certifi>=2017.4.17 in /usr/local/lib/python3.11/dist-packages (from requests>=2.26.0->tiktoken) (2025.1.31)\n",
            "Downloading tiktoken-0.8.0-cp311-cp311-manylinux_2_17_x86_64.manylinux2014_x86_64.whl (1.2 MB)\n",
            "\u001b[2K   \u001b[90m━━━━━━━━━━━━━━━━━━━━━━━━━━━━━━━━━━━━━━━━\u001b[0m \u001b[32m1.2/1.2 MB\u001b[0m \u001b[31m13.2 MB/s\u001b[0m eta \u001b[36m0:00:00\u001b[0m\n",
            "\u001b[?25hInstalling collected packages: tiktoken\n",
            "Successfully installed tiktoken-0.8.0\n",
            "humans see: \"hello world\" --> language models see: [24912, 2375]\n"
          ]
        }
      ],
      "source": [
        "# PROVIDED CODE\n",
        "\n",
        "try:\n",
        "    import tiktoken\n",
        "except Exception as e:\n",
        "    print('installing tiktoken package')\n",
        "\n",
        "    !pip install tiktoken\n",
        "\n",
        "    import tiktoken\n",
        "\n",
        "def tokenize_text(s):\n",
        "    enc = tiktoken.encoding_for_model('gpt-4o')\n",
        "    tokens = enc.encode(str(s))\n",
        "    return tokens\n",
        "\n",
        "example_string = 'hello world'\n",
        "print(f'humans see: \"{example_string}\" --> language models see: {tokenize_text(example_string)}')"
      ]
    },
    {
      "cell_type": "markdown",
      "id": "0ab56227",
      "metadata": {
        "id": "0ab56227"
      },
      "source": [
        "### 3.1 (5 pt)\n",
        "\n",
        "Use the provided code in the cell above to \"see the world through the eyes of a language model\":\n",
        "\n",
        "A. Tokenize the questions of the original MMLU data provided in task 1: `task_1/mmlu_data/test.csv` and plot the token distribution (the frequency of each token).\n",
        "\n",
        "B. Same as (A), but now for the answers in columns (columns \"A\", \"B\", \"C\", and \"D\").\n",
        "\n",
        "C. Isolate the tokens for the strings \"A\", \"B\", \"C\", and \"D\", then, for their occurances in both questions and answers, print their relative distribution to each other.\n",
        "\n",
        "**hint**\n",
        "- There are a _lot_ of tokens, consider using a cutoff point and log scale\n",
        "- For (c), they should sum to 1"
      ]
    },
    {
      "cell_type": "code",
      "execution_count": 26,
      "id": "a00f69cf",
      "metadata": {
        "scrolled": true,
        "id": "a00f69cf",
        "colab": {
          "base_uri": "https://localhost:8080/",
          "height": 526
        },
        "outputId": "44f9ecdf-b915-46fe-cc21-951586a3f964"
      },
      "outputs": [
        {
          "output_type": "display_data",
          "data": {
            "text/plain": [
              "<Figure size 1000x500 with 1 Axes>"
            ],
            "image/png": "[encoded data removed]"
          },
          "metadata": {}
        }
      ],
      "source": [
        "#A\n",
        "\n",
        "from collections import Counter\n",
        "\n",
        "# Load the original MMLU test data\n",
        "df_test = pd.read_csv(\"data/task_1/mmlu_data/test.csv\")\n",
        "\n",
        "df_test[\"tokens\"] = df_test[\"question\"].apply(tokenize_text)\n",
        "\n",
        "all_tokens = [token for token_list in df_test[\"tokens\"] for token in token_list]\n",
        "\n",
        "token_counts = Counter(all_tokens)\n",
        "\n",
        "token_freq_df = pd.DataFrame(token_counts.items(), columns=[\"Token\", \"Frequency\"]).sort_values(by=\"Frequency\", ascending=False)\n",
        "\n",
        "top_n = 50\n",
        "token_freq_df = token_freq_df.head(top_n)\n",
        "\n",
        "\n",
        "# Plot with a log scale for better visualization\n",
        "plt.figure(figsize=(10, 5))\n",
        "plt.bar(token_freq_df[\"Token\"].astype(str), token_freq_df[\"Frequency\"], alpha=0.75)\n",
        "plt.yscale(\"log\")  # Set y-axis to log scale\n",
        "plt.xlabel(\"Token ID\")\n",
        "plt.ylabel(\"Log Frequency\")\n",
        "plt.title(\"Token Frequency Distribution in MMLU Questions (Top 50 Tokens)\")\n",
        "plt.xticks(rotation=90)\n",
        "plt.grid(axis=\"y\", linestyle=\"--\", alpha=0.7)\n",
        "plt.show()\n"
      ]
    },
    {
      "cell_type": "code",
      "execution_count": 27,
      "id": "7f4ce783",
      "metadata": {
        "id": "7f4ce783",
        "colab": {
          "base_uri": "https://localhost:8080/",
          "height": 517
        },
        "outputId": "e99acfde-2fd2-4229-b16a-fddfe4cfdd82"
      },
      "outputs": [
        {
          "output_type": "display_data",
          "data": {
            "text/plain": [
              "<Figure size 1000x500 with 1 Axes>"
            ],
            "image/png": "[encoded data removed]"
          },
          "metadata": {}
        }
      ],
      "source": [
        "#B\n",
        "\n",
        "\n",
        "\n",
        "# Tokenize all answers (A, B, C, D)\n",
        "df_test[\"tokens_A\"] = df_test[\"A\"].apply(tokenize_text)\n",
        "df_test[\"tokens_B\"] = df_test[\"B\"].apply(tokenize_text)\n",
        "df_test[\"tokens_C\"] = df_test[\"C\"].apply(tokenize_text)\n",
        "df_test[\"tokens_D\"] = df_test[\"D\"].apply(tokenize_text)\n",
        "\n",
        "# Flatten the token lists\n",
        "all_tokens_answers = []\n",
        "for col in [\"tokens_A\", \"tokens_B\", \"tokens_C\", \"tokens_D\"]:\n",
        "    all_tokens_answers.extend([token for token_list in df_test[col] for token in token_list])\n",
        "\n",
        "# Count frequency of each token\n",
        "token_counts_answers = Counter(all_tokens_answers)\n",
        "\n",
        "# Convert to dataframe for plotting\n",
        "token_freq_answers_df = pd.DataFrame(token_counts_answers.items(), columns=[\"Token\", \"Frequency\"]).sort_values(by=\"Frequency\", ascending=False)\n",
        "\n",
        "# Use a cutoff to show only the most common tokens (e.g., top 50)\n",
        "top_n = 50\n",
        "token_freq_answers_df = token_freq_answers_df.head(top_n)\n",
        "\n",
        "# Plot with a log scale for better visualization\n",
        "plt.figure(figsize=(10, 5))\n",
        "plt.bar(token_freq_answers_df[\"Token\"].astype(str), token_freq_answers_df[\"Frequency\"], alpha=0.75)\n",
        "plt.yscale(\"log\")  # Log scale to handle large frequency differences\n",
        "plt.xlabel(\"Token ID\")\n",
        "plt.ylabel(\"Log Frequency\")\n",
        "plt.title(\"Token Frequency Distribution in Answer Choices (Top 50 Tokens)\")\n",
        "plt.xticks(rotation=90)\n",
        "plt.grid(axis=\"y\", linestyle=\"--\", alpha=0.7)\n",
        "plt.show()\n"
      ]
    },
    {
      "cell_type": "code",
      "execution_count": 28,
      "id": "8015e92e",
      "metadata": {
        "id": "8015e92e",
        "colab": {
          "base_uri": "https://localhost:8080/"
        },
        "outputId": "e39b9c13-513c-4221-e167-342cdea28fdf"
      },
      "outputs": [
        {
          "output_type": "stream",
          "name": "stdout",
          "text": [
            "\n",
            "Relative Distribution of Tokens 'A', 'B', 'C', 'D' in Questions (Sum to 1):\n",
            "{'A': 0.905521472392638, 'B': 0.03190184049079755, 'C': 0.04171779141104295, 'D': 0.020858895705521473}\n",
            "\n",
            "Relative Distribution of Tokens 'A', 'B', 'C', 'D' in Answers (Sum to 1):\n",
            "{'A': 0.6318207926479035, 'B': 0.09994256174612291, 'C': 0.1855255600229753, 'D': 0.08271108558299828}\n"
          ]
        }
      ],
      "source": [
        "#C\n",
        "\n",
        "\n",
        "\n",
        "\n",
        "\n",
        "# Get token IDs for the strings \"A\", \"B\", \"C\", \"D\"\n",
        "enc = tiktoken.encoding_for_model('gpt-4o')\n",
        "token_A, token_B, token_C, token_D = enc.encode(\"A\")[0], enc.encode(\"B\")[0], enc.encode(\"C\")[0], enc.encode(\"D\")[0]\n",
        "\n",
        "\n",
        "# Count occurrences of \"A\", \"B\", \"C\", \"D\" tokens in questions and answers\n",
        "token_counts_questions = Counter(all_tokens)\n",
        "token_counts_answers = Counter(all_tokens_answers)\n",
        "\n",
        "# Get total occurrences of \"A\", \"B\", \"C\", \"D\"\n",
        "total_questions = sum([token_counts_questions[token] for token in [token_A, token_B, token_C, token_D]])\n",
        "total_answers = sum([token_counts_answers[token] for token in [token_A, token_B, token_C, token_D]])\n",
        "\n",
        "# Compute relative distribution (normalized to sum to 1)\n",
        "relative_distribution_questions = {\n",
        "    \"A\": token_counts_questions[token_A] / total_questions,\n",
        "    \"B\": token_counts_questions[token_B] / total_questions,\n",
        "    \"C\": token_counts_questions[token_C] / total_questions,\n",
        "    \"D\": token_counts_questions[token_D] / total_questions\n",
        "}\n",
        "\n",
        "relative_distribution_answers = {\n",
        "    \"A\": token_counts_answers[token_A] / total_answers,\n",
        "    \"B\": token_counts_answers[token_B] / total_answers,\n",
        "    \"C\": token_counts_answers[token_C] / total_answers,\n",
        "    \"D\": token_counts_answers[token_D] / total_answers\n",
        "}\n",
        "\n",
        "# Print results\n",
        "print(\"\\nRelative Distribution of Tokens 'A', 'B', 'C', 'D' in Questions (Sum to 1):\")\n",
        "print(relative_distribution_questions)\n",
        "\n",
        "print(\"\\nRelative Distribution of Tokens 'A', 'B', 'C', 'D' in Answers (Sum to 1):\")\n",
        "print(relative_distribution_answers)\n"
      ]
    },
    {
      "cell_type": "markdown",
      "id": "2a9d0055",
      "metadata": {
        "id": "2a9d0055"
      },
      "source": [
        "### 3.2 (3 pt)\n",
        "\n",
        "What if the number of \"A\", \"B\", \"C\", and \"D\" tokens in the question and answer pairs could influence a language model's decisions?\n",
        "\n",
        "A. For each question-answer pair, compute:\n",
        "1. the number of \"A\", \"B\", \"C\", and \"D\" tokens that occur in the combined question and answers;\n",
        "2. an the total number of tokens.\n",
        "3. then, group by the \"correct\" answer and compute the mean frequency of A, B, C, and D tokens and the total number of tokens.\n",
        "4. finally, print your results\n",
        "\n",
        "B. /Discuss:/ What do you think of the hypothesis that the frequency of A, B, C, and D tokens could influence answers?\n"
      ]
    },
    {
      "cell_type": "code",
      "execution_count": 31,
      "id": "cf09aaf6",
      "metadata": {
        "id": "cf09aaf6",
        "outputId": "0c1cadec-34ee-46f1-896c-08d934ed9d00",
        "colab": {
          "base_uri": "https://localhost:8080/"
        }
      },
      "outputs": [
        {
          "output_type": "stream",
          "name": "stdout",
          "text": [
            "\n",
            "Mean Token Frequencies by Correct Answer (Compact Version):\n",
            "\n",
            "Correct Answer: A\n",
            "  - Mean A_count: 0.2430\n",
            "  - Mean B_count: 0.0189\n",
            "  - Mean C_count: 0.0251\n",
            "  - Mean D_count: 0.0130\n",
            "  - Mean total_tokens: 93.1872\n",
            "--------------------------------------------------\n",
            "Correct Answer: B\n",
            "  - Mean A_count: 0.2319\n",
            "  - Mean B_count: 0.0196\n",
            "  - Mean C_count: 0.0295\n",
            "  - Mean D_count: 0.0127\n",
            "  - Mean total_tokens: 88.8463\n",
            "--------------------------------------------------\n",
            "Correct Answer: C\n",
            "  - Mean A_count: 0.2264\n",
            "  - Mean B_count: 0.0190\n",
            "  - Mean C_count: 0.0349\n",
            "  - Mean D_count: 0.0154\n",
            "  - Mean total_tokens: 92.6538\n",
            "--------------------------------------------------\n",
            "Correct Answer: D\n",
            "  - Mean A_count: 0.2428\n",
            "  - Mean B_count: 0.0146\n",
            "  - Mean C_count: 0.0310\n",
            "  - Mean D_count: 0.0143\n",
            "  - Mean total_tokens: 92.1102\n",
            "--------------------------------------------------\n"
          ]
        }
      ],
      "source": [
        "#A\n",
        "\n",
        "df_test = pd.read_csv(\"data/task_1/mmlu_data/test.csv\")\n",
        "\n",
        "\n",
        "# Function to count specific tokens in a tokenized list\n",
        "def count_tokens(text_list, target_tokens):\n",
        "    tokens = sum((tokenize_text(str(text)) for text in text_list), [])  # Tokenize all parts\n",
        "    return {t: tokens.count(t) for t in target_tokens}  # Count occurrences\n",
        "\n",
        "# Token IDs for A, B, C, D\n",
        "target_tokens = [token_A, token_B, token_C, token_D]\n",
        "\n",
        "# Apply token counting to each row\n",
        "df_test[[\"A_count\", \"B_count\", \"C_count\", \"D_count\"]] = df_test.apply(\n",
        "    lambda row: pd.Series(count_tokens([row[\"question\"], row[\"A\"], row[\"B\"], row[\"C\"], row[\"D\"]], target_tokens)),\n",
        "    axis=1\n",
        ")\n",
        "\n",
        "# Compute total token count\n",
        "df_test[\"total_tokens\"] = df_test.apply(\n",
        "    lambda row: len(sum(\n",
        "        [tokenize_text(str(row[col])) for col in [\"question\", \"A\", \"B\", \"C\", \"D\"]],\n",
        "        [])),axis=1)\n",
        "\n",
        "\n",
        "# Group by correct answer and compute means\n",
        "mean_frequencies_compact = df_test.groupby(\"answer\")[[\"A_count\", \"B_count\", \"C_count\", \"D_count\", \"total_tokens\"]].mean()\n",
        "\n",
        "# Print results\n",
        "print(\"\\nMean Token Frequencies by Correct Answer (Compact Version):\\n\")\n",
        "for answer, row in mean_frequencies_compact.iterrows():\n",
        "    print(f\"Correct Answer: {answer}\")\n",
        "    for token, count in row.items():\n",
        "        print(f\"  - Mean {token}: {count:.4f}\")\n",
        "    print(\"-\" * 50)\n"
      ]
    },
    {
      "cell_type": "markdown",
      "id": "020511d4",
      "metadata": {
        "id": "020511d4"
      },
      "source": [
        "B. /Discuss:/\n",
        "\n",
        "\n",
        "A tokens dominate in all cases, even when \"B,\" \"C,\" or \"D\" is the correct answer. If the model were heavily biased by token frequency, we'd expect answers to be correct more often when they contain more of their own letter. However, this pattern isn’t strongly visible.\n",
        "The model might be slightly biased toward \"A\" simply because \"A\" appears more often in both questions and answers.\n"
      ]
    },
    {
      "cell_type": "markdown",
      "id": "c2b42b74",
      "metadata": {
        "id": "c2b42b74"
      },
      "source": [
        "### 3.3 (4 pt)\n",
        "\n",
        "Three of the most important considerations when deciding between language models are:\n",
        "\n",
        "Quality\n",
        "Costs\n",
        "Speed\n",
        "\n",
        "So far, much of your analysis has focused on quality. However, the government has indicated that they are quite concerned about both the total costs and speed as well. Specifically, it has been brought to their attention that a new `turbo` model has been launched!\n",
        "\n",
        "This model is both cheaper and faster than the models you evaluated so far. However, there is a catch: the context length* is much smaller than that of the other LMS. Namely, it can only process **300** tokens during inference. Meanwhile, the other models can process up to 100K tokens!\n",
        "\n",
        "*_The “context length” refers to the number of tokens that can be given to an LM as input._\n",
        "\n",
        "A. Are there subjects where using the cheaper model might be problematic? I.e., where part of the question and answer(s) might not fit completely in the context?\n",
        "\n",
        "B. /Discuss:/ Can you think of a strategy that would balance the needs of the government?\n",
        "\n",
        "**hint**:\n",
        "- An LM needs to have both the question and the different answer options in its context"
      ]
    },
    {
      "cell_type": "code",
      "execution_count": 30,
      "id": "f365f2b6",
      "metadata": {
        "id": "f365f2b6",
        "colab": {
          "base_uri": "https://localhost:8080/"
        },
        "outputId": "e57541d3-be59-4206-eeb8-354ed52be3b7"
      },
      "outputs": [
        {
          "output_type": "stream",
          "name": "stdout",
          "text": [
            "\n",
            "Subjects where token length might exceed turbo model limit (300 tokens):\n",
            "subject\n",
            "high school european history    330.309091\n",
            "high school world history       327.751055\n",
            "Name: total_tokens, dtype: float64\n"
          ]
        }
      ],
      "source": [
        "#\n",
        "\n",
        "# Compute total token length (question + all answers) for each row\n",
        "df_test[\"total_tokens\"] = df_test.apply(\n",
        "    lambda row: len(tokenize_text(f\"{row['question']} {row['A']} {row['B']} {row['C']} {row['D']}\")), axis=1\n",
        ")\n",
        "\n",
        "# Compute the average total token length per subject\n",
        "subject_token_lengths = df_test.groupby(\"subject\")[\"total_tokens\"].mean().sort_values(ascending=False)\n",
        "\n",
        "# Identify subjects where the mean token length is greater than or near 300\n",
        "problematic_subjects = subject_token_lengths[subject_token_lengths > 300]\n",
        "\n",
        "# # Print results\n",
        "# print(\"\\nMean Total Token Length per Subject:\")\n",
        "# print(subject_token_lengths)\n",
        "\n",
        "print(\"\\nSubjects where token length might exceed turbo model limit (300 tokens):\")\n",
        "print(problematic_subjects)\n"
      ]
    },
    {
      "cell_type": "markdown",
      "id": "4231fdc6",
      "metadata": {
        "id": "4231fdc6"
      },
      "source": [
        "B. /Discuss:/\n",
        "\n",
        "- Use Turbo for most subjects: The majority of subjects have token lengths far below 300, making the turbo model viable. (Given turbo is of similar quality to the others, not counting the context length here)\n",
        "- Use High-Context Models for long-history questions.\n",
        "- There could be other options like summarisation using a cheap open source model or a 2 pass to the turbo model but that would increase the cost. So, for now, given the information, use turbo for most subjects and high context models for history."
      ]
    },
    {
      "cell_type": "markdown",
      "id": "44558c5d",
      "metadata": {
        "id": "44558c5d"
      },
      "source": [
        "### 3.4 (4 pt)\n",
        "\n",
        "/Discuss:/ The time has come to give your final recommendation on the use of LMs in education to the government! Taking into account everything you analyzed in all the preceding tasks (1, 2, and 3), please write a short recommendation consisting of 4 bullet points discussing your concerns."
      ]
    },
    {
      "cell_type": "markdown",
      "id": "61c2e634",
      "metadata": {
        "id": "61c2e634"
      },
      "source": [
        "B. /Discuss:/\n",
        "\n",
        "\n",
        "1. No Single Best Model – X and Y perform best on different datasets, making the best choice dependent on what matters more to the government. Z is the weakest. But maybe z could be a viable option if cost is a very big factor.\n",
        "\n",
        "2. Bias & Inconsistency – Models favor certain answer choices (e.g., X overuses \"A\" and shows suspiciously perfect accuracy when selecting \"C\" or \"D\", raising concerns about possible overfitting )\n",
        "\n",
        "3. Potential Refinements – Summarization or a two-pass system could improve efficiency but may increase costs.\n",
        "\n",
        "4. ***Final Decision: Given the current trade-offs, the best approach is Turbo for most subjects and high-context models for history, while keeping an eye on biases and potential refinements.***"
      ]
    }
  ],
  "metadata": {
    "kernelspec": {
      "display_name": "Python 3",
      "language": "python",
      "name": "python3"
    },
    "language_info": {
      "codemirror_mode": {
        "name": "ipython",
        "version": 3
      },
      "file_extension": ".py",
      "mimetype": "text/x-python",
      "name": "python",
      "nbconvert_exporter": "python",
      "pygments_lexer": "ipython3",
      "version": "3.8.3"
    },
    "colab": {
      "provenance": []
    }
  },
  "nbformat": 4,
  "nbformat_minor": 5
}