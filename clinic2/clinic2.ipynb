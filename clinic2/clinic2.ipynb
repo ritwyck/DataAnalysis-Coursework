{
 "cells": [
  {
   "cell_type": "markdown",
   "id": "895feafc",
   "metadata": {},
   "source": [
    "Group 4\n",
    "\n",
    "Srikar Narayan Rao, Aryan Suri, Ritwik Srivastava\n",
    "\n",
    "i606047, i6303857, i6303400"
   ]
  },
  {
   "cell_type": "markdown",
   "id": "08c85891",
   "metadata": {},
   "source": [
    "**Use of genAI tools (e.g. chatGPT), websites (e.g. stackoverflow)**: *list websites where you found code (or other info) as well as include information on how you used genAI tools*\n",
    "Chatgpt for understanding certain concepts. "
   ]
  },
  {
   "cell_type": "markdown",
   "id": "6b08998c",
   "metadata": {},
   "source": [
    "# Data Analysis, Clinic 2\n",
    "\n",
    "By completing and delivering the clinic tasks you will know how to :\n",
    "\n",
    "- Preprocess data and make it amenable to statistical analysis and machine learning models;\n",
    "- Train and test out-of-the-box machine learning models in `sklearn`;\n",
    "- Carry out simple logistic regression analysis;\n",
    "- Evaluate classification models based on different metrics;\n",
    "- Assess how your model performance can improve\n",
    "- Reflect on the greater impact of the models you develop\n",
    "\n",
    "---\n",
    "\n",
    "## Important Dates\n",
    "\n",
    "- Homework release: Fri, 7th Feb\n",
    "- **Homework due**: Mon, 17th Feb late night (wildcards possible, apply to the group)\n",
    "\n",
    "---\n",
    "\n",
    "##  Some rules\n",
    "\n",
    "* We have provided `TODO` comments in the code cells that you need to fill out with your solutions. For some questions, we have also provided `Your response` comments, where you should provide a textual answer.\n",
    "\n",
    "* You are allowed to use any built-in Python library that is included in the `requirements.txt` for this homework. If you use any additional library, this may complicate the grading process, and we reserve the right to penalize your grade for unnecessary complexity of the solution. All the questions can be solved with the libraries in `requirements.txt`.\n",
    "\n",
    "* Make sure that you include a proper amount/mix of comments, results and code. More specifically, be sure to provide a concise textual description of your thought process, the assumptions you made, the solution you implemented, and explanations for your answers. A notebook that only has code cells will not suffice. To avoid confusion: use short comments for longer code answers.\n",
    "\n",
    "* Back up any hypotheses and claims with data, since this is an important aspect of the course.\n",
    "\n",
    "* Please write all your comments in English, and use meaningful variable names (as possible) in your code. \n",
    "\n",
    "* In the end, make sure that all cells are executed properly and everything you need to show is in your (execucted) notebook. We will not run your notebook for you! \n",
    "\n",
    "- In continuation to the previous point, interactive plots, such as those generated using the ‘plotly’ package, should be strictly avoided! Make sure to print results and/or dataframes that confirm you have properly addressed the task.\n",
    "\n",
    "* You are asked to deliver **only your executed notebook file, .ipnyb** and nothing else. If you deliver other files, we will not grade anything.\n",
    "\n",
    "* Honor code applies to these tasks. If you are not certain about an action, consult with Jerry.\n",
    "\n",
    "**A Note from Jerry on using Language Models (LMs)**\n",
    "\n",
    "If you try hard enough, you will likely get away with cheating (that does not only apply to LMs). Fortunately, my job is not to police, but rather to educate you. So, please consider the following:\n",
    "\n",
    "I assume that you are taking this course to learn something! LMs are not always right ([they often fail in silly ways](https://community.openai.com/t/why-9-11-is-larger-than-9-9-incredible/869824/4)). This course should prepare you to detect when they are wrong!\n",
    "\n",
    "I don't restrict the use of LMs because I see the value of being helped when coding (esp. in the context of pandas dataframes nightmare :)). Based on what we saw last year in your notebooks, it's pretty clear when you \"copy\" some code and then you struggle to interpret the results. This is the essence of this course and of the skills you should try build for yourself: Many people can run fancy models these days but not many people can interpret the results correctly. Try to be the latter ones.\n",
    "\n",
    "\n",
    "\n",
    "---\n",
    "\n",
    "\n",
    "## Grading \n",
    "- The homework has a total of 100 points, distributed as follows:\n",
    "    - Part 1: Data Preprocessing (20 points)\n",
    "    - Part 2: Linear Regression (30 points)\n",
    "    - Part 3: Supervised Learning (40 points)\n",
    "    - Part 4: The Aftermath (5 points)"
   ]
  },
  {
   "cell_type": "markdown",
   "id": "7c6f0a9b",
   "metadata": {},
   "source": [
    "## Context\n",
    "\n",
    "Within DACS, you are excited to start an internship as a data scientist.\n",
    "After rounds of interviews, you have been selected to work with the biggest car dealership in the Netherlands !\n",
    "\n",
    "Your mentor at the company Jerasimosu, has explained to you that the company is interested in a pricing model for used cars. \n",
    "\n",
    "- Jerasimosu: \"We have a lot of used cars in our inventory, and we need to determine the price at which we should sell these cars. We have some ideas about the factors that influence the price of a used car, but so far we have just been using our experience and intuition to determine the price of a used car. Sometimes it works, but probably we can do better and a more data-driven approach would also help our new employees in the sales team as they have less experience.\"\n",
    "\n",
    "- You: \"That sounds like a great project! What kind of data do we have?\"\n",
    "\n",
    "- Jerasimosu: \"We sell all kinds of cars here, but maybe we can start with a specific brand and model. For example, the Toyota Corolla is the best-selling car worldwide in 2023, and we have a lot of data on it. We can start by analyzing the data on used Toyota Corolla cars. If it works well, we can extend the analysis to other brands.\"\n",
    "\n",
    "The dataset contains the following columns:\n",
    "\n",
    "- `Age`: Age of the car in months.\n",
    "- `Mileage`: Number of distance the car has been driven. (km or miles)\n",
    "- `FuelType`: Fuel type of the car (Petrol, Diesel, or CNG)\n",
    "- `HP`: Horsepower\n",
    "- `MetColor`: Is the color of the car metallic? (Yes=1, No=0)\n",
    "- `Automatic`: Is the car automatic? (Yes=1, No=0)\n",
    "- `CC`: Cylinder volume in cubic centimeters\n",
    "- `Doors`: Number of doors\n",
    "- `Weight`: Weight of the car in kilograms\n",
    "- `Price`: Price of the car in euros\n",
    "\n",
    "\n",
    "## Data\n",
    "\n",
    "The data is provided in the `data` folder and it contains the following 3 csv files:\n",
    "- `Task1-2.ToyotaCorolla.csv` for Part 1 and Part 2\n",
    "- `Task3.ToyotaCorolla_sales_3months.csv` for Part 3\n",
    "\n",
    "You should not use any other data source for this homework.\n",
    "\n",
    "For some questions, you might need to slightly modify the data. But overall, you should avoid making any major changes to the data, which may affect your analysis.\n",
    "\n",
    "## References:\n",
    "\n",
    "The data is based on the ToyotaCorolla dataset from the UCI Machine Learning Repository [here](https://archive.ics.uci.edu/ml/datasets/Toyota+Corolla).\n",
    "We have made some modifications to the original dataset, so please use the data provided in the `data` folder in the course repo."
   ]
  },
  {
   "cell_type": "markdown",
   "id": "b36859d6",
   "metadata": {},
   "source": [
    "## Task 1 (20 pts) - Get to know the data"
   ]
  },
  {
   "cell_type": "code",
   "execution_count": 287,
   "id": "ccd6fa08",
   "metadata": {},
   "outputs": [],
   "source": [
    "import pandas as pd\n",
    "import numpy as np\n",
    "import matplotlib.pyplot as plt\n",
    "import statsmodels.api as sm\n",
    "import random\n",
    "import sklearn\n",
    "\n",
    "# fix random seed for reproducibility\n",
    "np.random.seed(42)\n",
    "random.seed(42)"
   ]
  },
  {
   "cell_type": "markdown",
   "id": "f502c087",
   "metadata": {},
   "source": [
    "\n",
    "**1.1 (2 pts)**: Load the data from the file `Task1-2.ToyotaCorolla-raw.csv` into a pandas DataFrame. Display the first 5 rows of the DataFrame. Hint: A naive loading of the data will raise an error. You will need to figure out how to load the data correctly. (Hint: localise which row is causing the error)"
   ]
  },
  {
   "cell_type": "code",
   "execution_count": 288,
   "id": "23cf0212",
   "metadata": {},
   "outputs": [
    {
     "name": "stdout",
     "output_type": "stream",
     "text": [
      "     Price   Age  Mileage FuelType    HP  MetColor  Automatic      CC  Doors  \\\n",
      "0  13500.0  23.0  46986.0   Diesel  90.0       1.0        0.0  2000.0    3.0   \n",
      "1  11878.0  23.0  72937.0   Diesel  90.0       1.0        0.0  2000.0    3.0   \n",
      "2  12050.0  24.0  41711.0   Diesel  90.0       1.0        0.0  2000.0    3.0   \n",
      "3  12914.0  26.0  48000.0   Diesel  90.0       0.0        0.0  2000.0    3.0   \n",
      "4  11878.0  30.0  38500.0   Diesel  90.0       0.0        0.0  2000.0    3.0   \n",
      "\n",
      "   Weight Currency  \n",
      "0  1165.0     EURO  \n",
      "1  1165.0      CHF  \n",
      "2  1165.0      CHF  \n",
      "3  1165.0      CHF  \n",
      "4  1170.0      CHF  \n"
     ]
    },
    {
     "name": "stderr",
     "output_type": "stream",
     "text": [
      "Skipping line 33: expected 11 fields, saw 12\n",
      "\n"
     ]
    }
   ],
   "source": [
    "#TODO\n",
    "\n",
    "\n",
    "dataset_path = \"data/Task1-2.ToyotaCorolla.csv\"\n",
    "\n",
    "# Row 33 was cauing the error, so we skip that\n",
    "df = pd.read_csv(dataset_path, encoding=\"utf-8\", on_bad_lines=\"warn\", delimiter=\",\")\n",
    "\n",
    "\n",
    "# Display the first 5 rows\n",
    "print(df.head())\n"
   ]
  },
  {
   "cell_type": "markdown",
   "id": "b0b5f57b",
   "metadata": {},
   "source": [
    "**1.2 (2 pts)**: Check if there are nan values in the Dataframe. If there are, try to find out which row is problematic and fix it. If you can't fix it, drop the row."
   ]
  },
  {
   "cell_type": "code",
   "execution_count": 289,
   "id": "a1197b0a",
   "metadata": {},
   "outputs": [
    {
     "name": "stdout",
     "output_type": "stream",
     "text": [
      "Missing values per column:\n",
      " Price        0\n",
      "Age          1\n",
      "Mileage      1\n",
      "FuelType     1\n",
      "HP           1\n",
      "MetColor     1\n",
      "Automatic    1\n",
      "CC           1\n",
      "Doors        1\n",
      "Weight       1\n",
      "Currency     1\n",
      "dtype: int64\n",
      "\n",
      "Rows with NaN values:\n",
      "                                                 Price  Age Mileage FuelType  \\\n",
      "905  8423.0;68;58860.0;Petrol;110;1;0;1600;3;1055;CHF  NaN     NaN      NaN   \n",
      "\n",
      "     HP  MetColor  Automatic  CC  Doors  Weight Currency  \n",
      "905 NaN       NaN        NaN NaN    NaN     NaN      NaN  \n",
      "\n",
      "Missing values after cleaning:\n",
      " Price        0\n",
      "Age          0\n",
      "Mileage      0\n",
      "FuelType     0\n",
      "HP           0\n",
      "MetColor     0\n",
      "Automatic    0\n",
      "CC           0\n",
      "Doors        0\n",
      "Weight       0\n",
      "Currency     0\n",
      "dtype: int64\n"
     ]
    }
   ],
   "source": [
    "#TODO\n",
    "\n",
    "\n",
    "# Check for NaN values in the dataset\n",
    "print(\"Missing values per column:\\n\", df.isnull().sum())\n",
    "\n",
    "# Display rows that contain NaN values\n",
    "nan_rows = df[df.isnull().any(axis=1)]\n",
    "print(\"\\nRows with NaN values:\\n\", nan_rows)\n",
    "\n",
    "# Fix NaN values (if possible)\n",
    "# Example: Fill missing values with the column mean (for numerical columns)\n",
    "df.fillna(df.mean(numeric_only=True), inplace=True)\n",
    "\n",
    "# If NaN values still exist, drop those rows\n",
    "df.dropna(inplace=True)\n",
    "\n",
    "# Verify that all NaN values are handled\n",
    "print(\"\\nMissing values after cleaning:\\n\", df.isnull().sum())\n",
    "\n",
    "\n"
   ]
  },
  {
   "cell_type": "markdown",
   "id": "303e0f76",
   "metadata": {},
   "source": [
    "**1.3 (4 pts): Compute the mean, median of the `Price` column.**\n",
    "\n",
    "- Compute the mean and median of the `Price` column. If you encounter error, try to understand why this error is happening and propose a solution.\n",
    "\n",
    "Hint: Is all values in the `Price` column numerical?\n"
   ]
  },
  {
   "cell_type": "code",
   "execution_count": 290,
   "id": "5d7b18e2",
   "metadata": {},
   "outputs": [
    {
     "name": "stdout",
     "output_type": "stream",
     "text": [
      "Non-numeric Price values: 27\n",
      "Rows with non-numeric values in the Price column:\n",
      "                     Price\n",
      "33    15,398,499999999998\n",
      "174   19,817.949999999997\n",
      "222   14,851.099999999999\n",
      "341   14,851.099999999999\n",
      "375   11,424.099999999999\n",
      "410   10,877.849999999999\n",
      "442   11,871.449999999999\n",
      "466   11,871.449999999999\n",
      "473   12,017.499999999998\n",
      "476                9,864£\n",
      "482                9,834£\n",
      "528   13,659.699999999999\n",
      "532   11,816.249999999998\n",
      "650              7,898.2£\n",
      "921              9,884.25\n",
      "1016   8,842.349999999999\n",
      "1049            8,449.999\n",
      "1062   7,992.499999999999\n",
      "1078             8,890.65\n",
      "1100             6,406.65\n",
      "1119   7,302.499999999999\n",
      "1166              5,610.0\n",
      "1297              8,625.0\n",
      "1327             6,855.15\n",
      "1353   9,387.449999999999\n",
      "1367   9,686.449999999999\n",
      "1368           4,089.9999\n",
      "Mean Price: 9431.730438563458\n",
      "Median Price: 8595.0\n"
     ]
    }
   ],
   "source": [
    "#TODO\n",
    "\n",
    "# Convert to numeric and count how many fail\n",
    "non_numeric_count = pd.to_numeric(df[\"Price\"], errors=\"coerce\").isna().sum()\n",
    "print(f\"Non-numeric Price values: {non_numeric_count}\")\n",
    "\n",
    "non_numeric_rows = df[pd.to_numeric(df[\"Price\"], errors=\"coerce\").isna()]\n",
    "print(\"Rows with non-numeric values in the Price column:\\n\", non_numeric_rows[[\"Price\"]])\n",
    "\n",
    "# Function to clean the Price column\n",
    "def clean_price(value):\n",
    "    if isinstance(value, str):  \n",
    "        value = value.replace(\",\", \"\")  # Remove commas\n",
    "        value = value.replace(\"£\", \"\")  # Remove currency symbols\n",
    "    return pd.to_numeric(value, errors=\"coerce\")  # Convert to float\n",
    "\n",
    "# Apply cleaning function to the Price column\n",
    "df[\"Price\"] = df[\"Price\"].apply(clean_price)\n",
    "\n",
    "df.drop(index=33, inplace=True)# row 33 has an insanely high price which messes with the mean. probably some data error\n",
    "\n",
    "df.reset_index(drop=True, inplace=True)\n",
    "\n",
    "\n",
    "\n",
    "# Compute mean and median\n",
    "mean_price = df[\"Price\"].mean()\n",
    "median_price = df[\"Price\"].median()\n",
    "\n",
    "print(f\"Mean Price: {mean_price}\")\n",
    "print(f\"Median Price: {median_price}\")\n"
   ]
  },
  {
   "cell_type": "markdown",
   "id": "62a727c9",
   "metadata": {},
   "source": [
    "**1.4 (4 pts): Convert Units**\n",
    "\n",
    "You notice that some prices are in CHF (Swiss Francs), while others are in EUR (Euros) or GBP (British Pounds). Additionally, for cars priced in GBP, the mileage is in miles rather than kilometers.\n",
    "\n",
    "For consistency, convert all prices to EUR and all distances to kilometers.\n",
    "\n",
    "- Exchange rates:\n",
    "  - 1 CHF = 1.05 EUR\n",
    "  - 1 GBP = 1.15 EUR\n",
    "  - 1 mile = 1.61 km\n",
    "\n",
    "Make the following conversions:\n",
    "1. Convert prices in CHF or GBP to EUR, rounding to the nearest integer.\n",
    "2. Convert distances in miles (for GBP cars) to kilometers, rounding to the nearest integer.\n",
    "3. Drop the 'Currency' column.\n",
    "4. Calculate the min, mean, median and max of the 'Price' and 'Distance' columns after the conversion."
   ]
  },
  {
   "cell_type": "code",
   "execution_count": 291,
   "id": "b4fc4a86",
   "metadata": {},
   "outputs": [
    {
     "name": "stdout",
     "output_type": "stream",
     "text": [
      "Price Statistics (after conversion): {'Min Price': 3946, 'Mean Price': 9868.926778242678, 'Median Price': 9025.0, 'Max Price': 29478}\n",
      "Mileage Statistics (after conversion): {'Min Mileage': 1.0, 'Mean Mileage': 68582.59176552687, 'Median Mileage': 63459.0, 'Max Mileage': 243000.0}\n"
     ]
    }
   ],
   "source": [
    "#TODO\n",
    "\n",
    "\n",
    "\n",
    "# Define exchange rates\n",
    "exchange_rates = {\n",
    "    \"CHF\": 1.05,  # 1 CHF = 1.05 EUR\n",
    "    \"GBP\": 1.15,  # 1 GBP = 1.15 EUR\n",
    "    \"EUR\": 1.00   \n",
    "}\n",
    "\n",
    "# Define mileage conversion rate\n",
    "miles_to_km = 1.61  # 1 mile = 1.61 km\n",
    "\n",
    "# Convert Prices to EUR\n",
    "def convert_price(row):\n",
    "    return round(row[\"Price\"] * exchange_rates.get(row[\"Currency\"], 1))\n",
    "\n",
    "\n",
    "df[\"Price\"] = df.apply(convert_price, axis=1)\n",
    "\n",
    "df[\"Mileage\"] = pd.to_numeric(df[\"Mileage\"], errors=\"coerce\")\n",
    "\n",
    "\n",
    "# Convert Mileage for GBP cars (from miles to km)\n",
    "df.loc[df[\"Currency\"] == \"GBP\", \"Mileage\"] = (df.loc[df[\"Currency\"] == \"GBP\", \"Mileage\"] * miles_to_km).round()\n",
    "\n",
    "\n",
    "\n",
    "# Drop the Currency column\n",
    "df.drop(columns=[\"Currency\"], inplace=True)\n",
    "\n",
    "# Compute min, mean, median, max for Price and Mileage\n",
    "price_stats = {\n",
    "    \"Min Price\": df[\"Price\"].min(),\n",
    "    \"Mean Price\": df[\"Price\"].mean(),\n",
    "    \"Median Price\": df[\"Price\"].median(),\n",
    "    \"Max Price\": df[\"Price\"].max(),\n",
    "}\n",
    "\n",
    "mileage_stats = {\n",
    "    \"Min Mileage\": df[\"Mileage\"].min(),\n",
    "    \"Mean Mileage\": df[\"Mileage\"].mean(),\n",
    "    \"Median Mileage\": df[\"Mileage\"].median(),\n",
    "    \"Max Mileage\": df[\"Mileage\"].max(),\n",
    "}\n",
    "\n",
    "# Print the results\n",
    "print(\"Price Statistics (after conversion):\", price_stats)\n",
    "print(\"Mileage Statistics (after conversion):\", mileage_stats)\n"
   ]
  },
  {
   "cell_type": "markdown",
   "id": "a0cf32bd",
   "metadata": {},
   "source": [
    "**1.5 (2 pts): Analyze Average Price**\n",
    "\n",
    "A.  Print the average price for each fuel type. Determine which fuel type has the highest average price.\n",
    "\n",
    "B.  Print the average price for different numbers of doors. Determine which number of doors has the highest average price."
   ]
  },
  {
   "cell_type": "code",
   "execution_count": 292,
   "id": "31e405cd",
   "metadata": {},
   "outputs": [
    {
     "name": "stdout",
     "output_type": "stream",
     "text": [
      "Average Price by Fuel Type: FuelType\n",
      "CNG        8752.176471\n",
      "Diesel    10366.490323\n",
      "Petrol     9822.858954\n",
      "Name: Price, dtype: float64\n",
      "Average Price by Doors: Doors\n",
      "2.0     7347.000000\n",
      "3.0     9293.535484\n",
      "4.0     9024.297101\n",
      "5.0    10578.637982\n",
      "Name: Price, dtype: float64\n"
     ]
    }
   ],
   "source": [
    "#TODO\n",
    "\n",
    "average_price_by_fuel = df.groupby(\"FuelType\")[\"Price\"].mean()\n",
    "print(\"Average Price by Fuel Type:\", average_price_by_fuel)\n",
    "\n",
    "average_price_by_doornums = df.groupby(\"Doors\")[\"Price\"].mean()\n",
    "print(\"Average Price by Doors:\", average_price_by_doornums)\n",
    "\n"
   ]
  },
  {
   "cell_type": "markdown",
   "id": "e33d0690",
   "metadata": {},
   "source": [
    "Fuel type with highest avg. price: Diesel (10366 eur)\n",
    "No. of doors with highest avg. price: 5 (10578 eur)"
   ]
  },
  {
   "cell_type": "markdown",
   "id": "f9fa4698",
   "metadata": {},
   "source": [
    "**1.6 (2 pts): Relationship Between Car Age and Price**\n",
    "\n",
    "It is intuitive that an older car tends to be cheaper, and a car with more mileage might also be less expensive. \n",
    "\n",
    "To explore this intuition, create two scatter plots:\n",
    "1. Car Age vs Price\n",
    "2. Mileage vs Price"
   ]
  },
  {
   "cell_type": "code",
   "execution_count": 293,
   "id": "c1ac6aee",
   "metadata": {},
   "outputs": [
    {
     "data": {
      "image/png": "[encoded data removed]",
      "text/plain": [
       "<Figure size 800x400 with 1 Axes>"
      ]
     },
     "metadata": {},
     "output_type": "display_data"
    },
    {
     "data": {
      "image/png": "[encoded data removed]",
      "text/plain": [
       "<Figure size 800x400 with 1 Axes>"
      ]
     },
     "metadata": {},
     "output_type": "display_data"
    }
   ],
   "source": [
    "#TODO\n",
    "\n",
    "# Scatter plot: Car Age vs Price\n",
    "plt.figure(figsize=(8, 4))\n",
    "plt.scatter(df[\"Age\"], df[\"Price\"], s=10,alpha=0.5)\n",
    "plt.xlabel(\"Car Age (months)\")\n",
    "plt.ylabel(\"Price (EUR)\")\n",
    "plt.title(\"Car Age vs Price\")\n",
    "plt.show()\n",
    "\n",
    "# Scatter plot: Mileage vs Price\n",
    "plt.figure(figsize=(8, 4))\n",
    "plt.scatter(df[\"Mileage\"], df[\"Price\"],s=10, alpha=0.5)\n",
    "plt.xlabel(\"Mileage (km)\")\n",
    "plt.ylabel(\"Price (EUR)\")\n",
    "plt.title(\"Mileage vs Price\")\n",
    "plt.show()\n"
   ]
  },
  {
   "cell_type": "markdown",
   "id": "0f6531d1",
   "metadata": {},
   "source": [
    "**1.7 (4 pts): Correlation Between Price and Mileage**\n",
    "\n",
    "The relationship between car price and mileage appears non-linear, with a steeper price drop initially followed by a flatter curve.\n",
    "\n",
    "A.(2 pts)  Calculate both the Pearson and Spearman correlations between the price of the car and the distance driven.\n"
   ]
  },
  {
   "cell_type": "code",
   "execution_count": 294,
   "id": "718ca9aa",
   "metadata": {},
   "outputs": [
    {
     "name": "stdout",
     "output_type": "stream",
     "text": [
      "Pearson correlation: -0.5648010913496242\n",
      "Spearman correlation: -0.6054477630274099\n"
     ]
    }
   ],
   "source": [
    "#TODO\n",
    "\n",
    "\n",
    "pearson_corr = df[\"Price\"].corr(df[\"Mileage\"], method=\"pearson\")\n",
    "spearman_corr = df[\"Price\"].corr(df[\"Mileage\"], method=\"spearman\")\n",
    "\n",
    "print(\"Pearson correlation:\", pearson_corr)\n",
    "print(\"Spearman correlation:\", spearman_corr)\n"
   ]
  },
  {
   "cell_type": "markdown",
   "id": "ee3638a1",
   "metadata": {},
   "source": [
    "\n",
    "B.(2 pts)  Which correlation value is higher? Does this result align with your expectations?"
   ]
  },
  {
   "cell_type": "markdown",
   "id": "addf1654",
   "metadata": {},
   "source": [
    "Your Response:\n",
    "\n",
    "//*\n",
    "\n",
    "\n",
    "\n",
    "\n",
    "Numerically, Spearman’s correlation (-0.605) is more negative (i.e., stronger in absolute value) than Pearson’s correlation (-0.565).\n",
    "\n",
    "This does align with our expectations because the relationship between mileage and price is non-linear, so a rank-based measure like Spearman often captures a stronger negative correlation.\n",
    "\n",
    "\n",
    "\n",
    "*//"
   ]
  },
  {
   "cell_type": "markdown",
   "id": "4827d3d8",
   "metadata": {},
   "source": [
    "## Part 2 Linear Regression (30 pts)\n",
    "\n",
    "You want to build a linear regression model to predict the price of a car based on the features you have.\n",
    "\n"
   ]
  },
  {
   "cell_type": "markdown",
   "id": "058120ef",
   "metadata": {},
   "source": [
    "**2.0 (8 pts) Helper functions**\n",
    "\n",
    "Before building the linear regression model, you need to implement some helper functions.\n",
    "\n",
    " Implement the `accuracy` , `precision`, `recall` and `f1_score` functions. \n",
    "\n",
    "1. These functions should take in the true labels(`np.array`) and the predicted labels(`np.array`) and return the corresponding metric. \n",
    "2. They should follow the convention that the positive class is 1 and the negative class is 0.\n",
    "3. Apply the functions to the following data:\n",
    "\n",
    "```python\n",
    "true_labels = np.array([1, 0, 1, 1, 0, 1, 0, 0, 1, 0])\n",
    "predicted_labels = np.array([1, 1, 1, 1, 0, 0, 1, 0, 1, 0])\n",
    "```\n",
    "\n",
    "- Compare the results with the implementation in `sklearn` and see if they match."
   ]
  },
  {
   "cell_type": "code",
   "execution_count": 295,
   "id": "7e5cff50",
   "metadata": {},
   "outputs": [
    {
     "name": "stdout",
     "output_type": "stream",
     "text": [
      "Custom Metrics:\n",
      "Accuracy: 0.7\n",
      "Precision: 0.6666666666666666\n",
      "Recall: 0.8\n",
      "F1 Score: 0.7272727272727272\n",
      "\n",
      "Sklearn Metrics:\n",
      "Accuracy: 0.7\n",
      "Precision: 0.6666666666666666\n",
      "Recall: 0.8\n",
      "F1 Score: 0.7272727272727272\n"
     ]
    }
   ],
   "source": [
    "#TODO\n",
    "\n",
    "\n",
    "from sklearn.metrics import accuracy_score as sk_accuracy\n",
    "from sklearn.metrics import precision_score as sk_precision\n",
    "from sklearn.metrics import recall_score as sk_recall\n",
    "from sklearn.metrics import f1_score as sk_f1\n",
    "\n",
    "# Helper functions\n",
    "def accuracy(y_true, y_pred):\n",
    "    return np.mean(y_true == y_pred)\n",
    "\n",
    "def precision(y_true, y_pred):\n",
    "    TP = np.sum((y_true == 1) & (y_pred == 1))\n",
    "    FP = np.sum((y_true == 0) & (y_pred == 1))\n",
    "    return TP / (TP + FP) if (TP + FP) != 0 else 0\n",
    "\n",
    "def recall(y_true, y_pred):\n",
    "    TP = np.sum((y_true == 1) & (y_pred == 1))\n",
    "    FN = np.sum((y_true == 1) & (y_pred == 0))\n",
    "    return TP / (TP + FN) if (TP + FN) != 0 else 0\n",
    "\n",
    "def f1_score_custom(y_true, y_pred):\n",
    "    p = precision(y_true, y_pred)\n",
    "    r = recall(y_true, y_pred)\n",
    "    return 2 * p * r / (p + r) if (p + r) != 0 else 0\n",
    "\n",
    "\n",
    "true_labels = np.array([1, 0, 1, 1, 0, 1, 0, 0, 1, 0])\n",
    "predicted_labels = np.array([1, 1, 1, 1, 0, 0, 1, 0, 1, 0])\n",
    "\n",
    "# Our custom metrics\n",
    "acc_custom = accuracy(true_labels, predicted_labels)\n",
    "prec_custom = precision(true_labels, predicted_labels)\n",
    "rec_custom = recall(true_labels, predicted_labels)\n",
    "f1_custom = f1_score_custom(true_labels, predicted_labels)\n",
    "\n",
    "print(\"Custom Metrics:\")\n",
    "print(\"Accuracy:\", acc_custom)\n",
    "print(\"Precision:\", prec_custom)\n",
    "print(\"Recall:\", rec_custom)\n",
    "print(\"F1 Score:\", f1_custom)\n",
    "\n",
    "# Compare with sklearn\n",
    "acc_sk = sk_accuracy(true_labels, predicted_labels)\n",
    "prec_sk = sk_precision(true_labels, predicted_labels, pos_label=1)\n",
    "rec_sk = sk_recall(true_labels, predicted_labels, pos_label=1)\n",
    "f1_sk = sk_f1(true_labels, predicted_labels, pos_label=1)\n",
    "\n",
    "print(\"\\nSklearn Metrics:\")\n",
    "print(\"Accuracy:\", acc_sk)\n",
    "print(\"Precision:\", prec_sk)\n",
    "print(\"Recall:\", rec_sk)\n",
    "print(\"F1 Score:\", f1_sk)\n"
   ]
  },
  {
   "cell_type": "markdown",
   "id": "06e49af9",
   "metadata": {},
   "source": [
    "\n",
    "**2.1 (6 pts) Preprocess the Data**\n",
    "\n",
    "To prepare your data for building a linear regression model, complete the following steps:\n",
    "\n",
    "A.(1 pts) Convert the categorical variables to one-hot encoding using the `pd.get_dummies()` function, how many columns do you have after the one-hot encoding? (P.S. You may want to avoid introducing multicollinearity with one-hot encoding, what should you do to avoid this?)\n"
   ]
  },
  {
   "cell_type": "code",
   "execution_count": 296,
   "id": "8f65013a",
   "metadata": {},
   "outputs": [
    {
     "name": "stdout",
     "output_type": "stream",
     "text": [
      "Number of columns after one-hot encoding: 11\n"
     ]
    }
   ],
   "source": [
    "#TODO\n",
    "\n",
    "\n",
    "\n",
    "df_encoded = pd.get_dummies(df,drop_first=True)# dropping first column helps to avoid multicollinearity as first\n",
    "# column is stored implicitly\n",
    "\n",
    "\n",
    "print(\"Number of columns after one-hot encoding:\", df_encoded.shape[1])\n"
   ]
  },
  {
   "cell_type": "markdown",
   "id": "15f24e26",
   "metadata": {},
   "source": [
    "B.(1 pts) Split the data into features (X) and target (y) variables. The target variable is the 'Price' column. Then split the data into train test sets using a 80-20 split. Use `random_state=42` for reproducibility. How many samples are in the training set and how many samples are in the test set?\n"
   ]
  },
  {
   "cell_type": "code",
   "execution_count": 297,
   "id": "9f3ea52d",
   "metadata": {},
   "outputs": [
    {
     "name": "stdout",
     "output_type": "stream",
     "text": [
      "Number of training samples: 1147\n",
      "Number of testing samples: 287\n"
     ]
    }
   ],
   "source": [
    "#TODO\n",
    "\n",
    "from sklearn.model_selection import train_test_split\n",
    "\n",
    "# Separate features and target\n",
    "X = df_encoded.drop(\"Price\", axis=1)\n",
    "y = df_encoded[\"Price\"]\n",
    "\n",
    "# Split data: 80% train, 20% test\n",
    "X_train, X_test, y_train, y_test = train_test_split(X, y, test_size=0.2, random_state=42)\n",
    "\n",
    "# Print number of samples in train and test sets\n",
    "print(\"Number of training samples:\", X_train.shape[0])\n",
    "print(\"Number of testing samples:\", X_test.shape[0])\n"
   ]
  },
  {
   "cell_type": "markdown",
   "id": "f6992805",
   "metadata": {},
   "source": [
    "C.(1 pts) Why do we split the data into only train-test sets but not train-validation-test sets? "
   ]
  },
  {
   "cell_type": "markdown",
   "id": "038285f4",
   "metadata": {},
   "source": [
    "Your Response:\n",
    "\n",
    "//*\n",
    "\n",
    "- If we have a small dataset, splitting into three parts (train-validation-test) reduces the amount of data available for training, which can hurt model performance.\n",
    "\n",
    "- For tasks like linear regression, we can use cross-validation on the training set to tune parameters if needed, so a separate validation set isn't always necessary.\n",
    "\n",
    "\n",
    "\n",
    "\n",
    "\n",
    "\n",
    "\n",
    "\n",
    "\n",
    "*//"
   ]
  },
  {
   "cell_type": "markdown",
   "id": "fe1b8bdf",
   "metadata": {},
   "source": [
    "D.(1 pts) **Standardize the Features**: Use `StandardScaler` from `sklearn.preprocessing` and then add a constant column using `sm.add_constant()`. Print the average and standard deviation of the training set after standardization."
   ]
  },
  {
   "cell_type": "code",
   "execution_count": 298,
   "id": "0743e6d6",
   "metadata": {},
   "outputs": [
    {
     "name": "stdout",
     "output_type": "stream",
     "text": [
      "Mean of training set after standardization:\n",
      "const              1.000000e+00\n",
      "Age               -1.022141e-16\n",
      "Mileage            1.424802e-16\n",
      "HP                 4.475738e-16\n",
      "MetColor          -7.124012e-17\n",
      "Automatic         -1.858438e-17\n",
      "CC                -5.857951e-16\n",
      "Doors             -3.035448e-16\n",
      "Weight             1.685758e-15\n",
      "FuelType_Diesel    2.013308e-17\n",
      "FuelType_Petrol   -6.814272e-17\n",
      "dtype: float64\n",
      "\n",
      "Standard deviation of training set after standardization:\n",
      "const              0.000000\n",
      "Age                1.000436\n",
      "Mileage            1.000436\n",
      "HP                 1.000436\n",
      "MetColor           1.000436\n",
      "Automatic          1.000436\n",
      "CC                 1.000436\n",
      "Doors              1.000436\n",
      "Weight             1.000436\n",
      "FuelType_Diesel    1.000436\n",
      "FuelType_Petrol    1.000436\n",
      "dtype: float64\n"
     ]
    }
   ],
   "source": [
    "#TODO\n",
    "\n",
    "from sklearn.preprocessing import StandardScaler\n",
    "import statsmodels.api as sm\n",
    "\n",
    "# Standardize features in the training set\n",
    "scaler = StandardScaler()\n",
    "X_train_scaled_array = scaler.fit_transform(X_train)\n",
    "X_train_scaled = pd.DataFrame(X_train_scaled_array, columns=X_train.columns, index=X_train.index)\n",
    "\n",
    "\n",
    "# Add a constant column for the intercept\n",
    "X_train_scaled_const = sm.add_constant(X_train_scaled)\n",
    "\n",
    "\n",
    "# Print the average and standard deviation of each column\n",
    "print(\"Mean of training set after standardization:\")\n",
    "print(X_train_scaled_const.mean(axis=0))\n",
    "\n",
    "print(\"\\nStandard deviation of training set after standardization:\")\n",
    "print(X_train_scaled_const.std(axis=0))\n"
   ]
  },
  {
   "cell_type": "markdown",
   "id": "ebec9402",
   "metadata": {},
   "source": [
    "E.(2 pts) Should we first standardize the data and then split it into train and test sets or vice versa?   why?"
   ]
  },
  {
   "cell_type": "markdown",
   "id": "49dfe2b6",
   "metadata": {},
   "source": [
    "Your Response:\n",
    "\n",
    "//*\n",
    "\n",
    " first split the data into train and test sets, and then standardize \n",
    " \n",
    " Why? Prevents Data Leakage – Standardizing before splitting lets test data influence the computed mean & standard deviation, leading to artificially improved performance.\n",
    "\n",
    "\n",
    "*//"
   ]
  },
  {
   "cell_type": "markdown",
   "id": "012c220d",
   "metadata": {},
   "source": [
    "**2.2 (10 pts) Train and Evaluate the Linear Regression Model**\n",
    "\n",
    "To train a linear regression model using and evaluate its performance, follow these steps:\n",
    "\n",
    "1. (2 pts) Train a linear regression model on the training dataset using `sm.OLS` from `statsmodels`, print the summary of the model using `model.summary()`.\n"
   ]
  },
  {
   "cell_type": "code",
   "execution_count": 299,
   "id": "0f4b338d",
   "metadata": {},
   "outputs": [
    {
     "name": "stdout",
     "output_type": "stream",
     "text": [
      "                            OLS Regression Results                            \n",
      "==============================================================================\n",
      "Dep. Variable:                  Price   R-squared:                       0.848\n",
      "Model:                            OLS   Adj. R-squared:                  0.847\n",
      "Method:                 Least Squares   F-statistic:                     635.0\n",
      "Date:                Wed, 19 Feb 2025   Prob (F-statistic):               0.00\n",
      "Time:                        23:44:22   Log-Likelihood:                -9864.2\n",
      "No. Observations:                1147   AIC:                         1.975e+04\n",
      "Df Residuals:                    1136   BIC:                         1.981e+04\n",
      "Df Model:                          10                                         \n",
      "Covariance Type:            nonrobust                                         \n",
      "===================================================================================\n",
      "                      coef    std err          t      P>|t|      [0.025      0.975]\n",
      "-----------------------------------------------------------------------------------\n",
      "const            9897.9355     38.996    253.821      0.000    9821.424    9974.447\n",
      "Age             -2141.4263     54.607    -39.215      0.000   -2248.568   -2034.285\n",
      "Mileage          -571.5431     54.671    -10.454      0.000    -678.810    -464.276\n",
      "HP                742.0789     91.749      8.088      0.000     562.063     922.095\n",
      "MetColor           25.7490     39.390      0.654      0.513     -51.537     103.035\n",
      "Automatic          56.7690     40.151      1.414      0.158     -22.010     135.547\n",
      "CC               -523.1280    110.217     -4.746      0.000    -739.380    -306.876\n",
      "Doors              -9.7697     42.618     -0.229      0.819     -93.389      73.850\n",
      "Weight            866.1995     68.732     12.603      0.000     731.344    1001.055\n",
      "FuelType_Diesel   850.7464    177.839      4.784      0.000     501.816    1199.677\n",
      "FuelType_Petrol   380.8602    129.275      2.946      0.003     127.215     634.505\n",
      "==============================================================================\n",
      "Omnibus:                      116.809   Durbin-Watson:                   2.037\n",
      "Prob(Omnibus):                  0.000   Jarque-Bera (JB):              851.851\n",
      "Skew:                          -0.033   Prob(JB):                    1.05e-185\n",
      "Kurtosis:                       7.221   Cond. No.                         10.3\n",
      "==============================================================================\n",
      "\n",
      "Notes:\n",
      "[1] Standard Errors assume that the covariance matrix of the errors is correctly specified.\n"
     ]
    }
   ],
   "source": [
    "#TODO\n",
    "\n",
    "import statsmodels.api as sm\n",
    "\n",
    "\n",
    "model = sm.OLS(y_train, X_train_scaled_const).fit()\n",
    "\n",
    "# Print the model summary\n",
    "print(model.summary())\n"
   ]
  },
  {
   "cell_type": "markdown",
   "id": "d5e4bdce",
   "metadata": {},
   "source": [
    "2. (2 pts) Evaluate the model on the test dataset using the square root of the mean squared error (RMSE) metric. \n",
    "   1. Report the RMSE value.\n",
    "   2. Your boss wants to know how far off the model's predictions are from the actual price of the car. What would you tell him? Given a number and explain how you got it.\n"
   ]
  },
  {
   "cell_type": "code",
   "execution_count": 300,
   "id": "7936208b",
   "metadata": {},
   "outputs": [
    {
     "name": "stdout",
     "output_type": "stream",
     "text": [
      "Number of NaNs in y_pred: 1\n",
      "Number of NaNs in y_test: 0\n",
      "RMSE: 1269.488245287913\n"
     ]
    }
   ],
   "source": [
    "#TODO\n",
    "\n",
    "from sklearn.metrics import mean_squared_error\n",
    "\n",
    "# Standardize the test features using the training scaler and add constant\n",
    "X_test_scaled_array = scaler.transform(X_test)\n",
    "X_test_scaled = pd.DataFrame(X_test_scaled_array, columns=X_test.columns, index=X_test.index)\n",
    "X_test_scaled_const = sm.add_constant(X_test_scaled)\n",
    "\n",
    "# Predict using the trained model\n",
    "y_pred = model.predict(X_test_scaled_const)\n",
    "\n",
    "# Check for NaN values in predictions and actual values\n",
    "print(\"Number of NaNs in y_pred:\", np.sum(np.isnan(y_pred)))\n",
    "print(\"Number of NaNs in y_test:\", np.sum(np.isnan(y_test)))\n",
    "\n",
    "# We only have one NaN, so we can drop it\n",
    "mask = (~np.isnan(y_pred)) & (~np.isnan(y_test))\n",
    "y_pred_clean = y_pred[mask]\n",
    "y_test_clean = y_test[mask]\n",
    "\n",
    "rmse = np.sqrt(mean_squared_error(y_test_clean, y_pred_clean))\n",
    "print(\"RMSE:\", rmse)\n"
   ]
  },
  {
   "cell_type": "markdown",
   "id": "92955c02",
   "metadata": {},
   "source": [
    "Your Response:\n",
    "\n",
    "//*\n",
    "\n",
    "\n",
    "Our model's car price predictions are, on average, about €1,269.49 off from the actual price.\n",
    "\n",
    "We calculated RMSE by taking the square root of the average squared differences between the actual and predicted car prices, giving an average error of €1,269.49. Squaring ensures all errors are positive, so they don't cancel each other out.\n",
    "\n",
    "\n",
    "\n",
    "*//"
   ]
  },
  {
   "cell_type": "markdown",
   "id": "39a1de71",
   "metadata": {},
   "source": [
    "3. (2 pts) Report the R² score on the test dataset and interpret it.\n"
   ]
  },
  {
   "cell_type": "code",
   "execution_count": 301,
   "id": "a1a4355f",
   "metadata": {},
   "outputs": [
    {
     "name": "stdout",
     "output_type": "stream",
     "text": [
      "R² on the test dataset: 0.8510021007215165\n"
     ]
    }
   ],
   "source": [
    "#TODO\n",
    "from sklearn.metrics import r2_score\n",
    "\n",
    "\n",
    "r2 = r2_score(y_test_clean, y_pred_clean)\n",
    "print(\"R² on the test dataset:\", r2)"
   ]
  },
  {
   "cell_type": "markdown",
   "id": "4fe57aee",
   "metadata": {},
   "source": [
    "Your Response:\n",
    "\n",
    "//*\n",
    "\n",
    "\n",
    "Our model predicts car prices quite well, explaining 85.1% of price differences. The remaining 14.9% may be due to factors we were not able to include like market trends, etc.\n",
    "\n",
    "\n",
    "\n",
    "*//"
   ]
  },
  {
   "cell_type": "markdown",
   "id": "d9191203",
   "metadata": {},
   "source": [
    "4.  (2 pts) Which features are statistically significant at a 5% significance level? "
   ]
  },
  {
   "cell_type": "code",
   "execution_count": 302,
   "id": "782d34e6",
   "metadata": {},
   "outputs": [
    {
     "name": "stdout",
     "output_type": "stream",
     "text": [
      "Features statistically significant at a 5% significance level:\n",
      "const               0.000000e+00\n",
      "Age                2.162603e-213\n",
      "Mileage             1.736360e-24\n",
      "HP                  1.542973e-15\n",
      "CC                  2.335208e-06\n",
      "Weight              3.517004e-34\n",
      "FuelType_Diesel     1.946374e-06\n",
      "FuelType_Petrol     3.283535e-03\n",
      "dtype: float64\n"
     ]
    }
   ],
   "source": [
    "#TODO\n",
    "\n",
    "\n",
    "p_values = model.pvalues\n",
    "\n",
    "# Filter features with p-value < 0.05 (statistically significant at 5% level)\n",
    "significant_features = p_values[p_values < 0.05]\n",
    "\n",
    "print(\"Features statistically significant at a 5% significance level:\")\n",
    "print(significant_features)\n"
   ]
  },
  {
   "cell_type": "markdown",
   "id": "8eff41e0",
   "metadata": {},
   "source": [
    "5.  (2 pts) Determine which two feature have the highest coefficient? What does it imply?"
   ]
  },
  {
   "cell_type": "code",
   "execution_count": 303,
   "id": "d336a875",
   "metadata": {},
   "outputs": [
    {
     "name": "stdout",
     "output_type": "stream",
     "text": [
      "Top two features :\n",
      "Age      -2141.426269\n",
      "Weight     866.199474\n",
      "dtype: float64\n"
     ]
    }
   ],
   "source": [
    "# Extract model coefficients (excluding the constant)\n",
    "coeffs = model.params.drop('const')\n",
    "\n",
    " \n",
    "top_two = coeffs.abs().sort_values(ascending=False).head(2)\n",
    "\n",
    "print(\"Top two features :\")\n",
    "print(coeffs[top_two.index])\n"
   ]
  },
  {
   "cell_type": "markdown",
   "id": "7dd51a86",
   "metadata": {},
   "source": [
    "Your Response:\n",
    "\n",
    "//*\n",
    "\n",
    "\n",
    "age is the strongest predictor and is negatively related to price (older cars are cheaper), while weight is the next most influential feature and is positively related to price.\n",
    "\n",
    "*//"
   ]
  },
  {
   "cell_type": "markdown",
   "id": "9af624b8",
   "metadata": {},
   "source": [
    "**2.3 (2 pts): Improvement Discussion**\n",
    "\n",
    "- Suggest a few additional features that could potentially explain this remaining variance in the data ( at least 2 features)."
   ]
  },
  {
   "cell_type": "markdown",
   "id": "81d36c87",
   "metadata": {},
   "source": [
    "Your Response:\n",
    "\n",
    "//*\n",
    "\n",
    "Car Condition/Accident History: Information on whether the car has been in any accidents or its overall condition (e.g., interior/exterior wear) can significantly affect its price.\n",
    "\n",
    "Service History/Maintenance Records: A well-maintained car (with regular servicing or documented repairs) could fetch a higher price compared to one with a poor maintenance record.\n",
    "\n",
    "\n",
    "\n",
    "*//"
   ]
  },
  {
   "cell_type": "markdown",
   "id": "94ca03f3",
   "metadata": {},
   "source": [
    "**2.4 (2 pts): Identifying Confounding Variables**\n",
    "\n",
    "The feature \"Weight\" shows a very low p-value and a high coefficient, but it doesn't seem to be a major factor for customers buying a second-hand car. You go to your mentor Jerasimosu to discuss this issue. Indeed, Jerasimosu suggests that never in his career has he seen a customer who asked for the weight of a car before buying it.\n",
    "You suspect that there might be a confounding variable that is correlated with the car's weight and significantly influences its price.\n",
    "\n",
    "- Suggest a possible confounding variable that may be correlated with the car's weight and significantly influence its price (it doesn't need to be a variable in the dataset). Explain why this variable could be a confounding variable."
   ]
  },
  {
   "cell_type": "markdown",
   "id": "c677c957",
   "metadata": {},
   "source": [
    "Your Response:\n",
    "\n",
    "//*\n",
    "\n",
    "A plausible confounding variable is the car’s engine size. Heavier cars often have larger engines, and a larger engine generally implies better performance.  Even if customers don’t ask directly about a car’s weight, they do care about performance and power, which are correlated with engine size.\n",
    "\n",
    "\n",
    "\n",
    "*//"
   ]
  },
  {
   "cell_type": "markdown",
   "id": "0c2854b8",
   "metadata": {},
   "source": [
    "**2.5 (2 pts): Adding an Inverse Mileage Term**\n",
    "\n",
    "From the previous scatter plot, the relationship between car price and mileage appears non-linear, with a steep price drop initially and then a flattening. A suitable approach to model this behavior is by incorporating an inverse term of mileage.\n",
    "\n",
    "- Add the inverse mileage term to the model and retrain it using the code provided. Print the model summary and interpret the effect of the inverse mileage term."
   ]
  },
  {
   "cell_type": "code",
   "execution_count": 304,
   "id": "8a4b261e",
   "metadata": {},
   "outputs": [
    {
     "name": "stdout",
     "output_type": "stream",
     "text": [
      "                            OLS Regression Results                            \n",
      "==============================================================================\n",
      "Dep. Variable:                  Price   R-squared:                       0.849\n",
      "Model:                            OLS   Adj. R-squared:                  0.847\n",
      "Method:                 Least Squares   F-statistic:                     578.3\n",
      "Date:                Wed, 19 Feb 2025   Prob (F-statistic):               0.00\n",
      "Time:                        23:44:22   Log-Likelihood:                -9862.9\n",
      "No. Observations:                1147   AIC:                         1.975e+04\n",
      "Df Residuals:                    1135   BIC:                         1.981e+04\n",
      "Df Model:                          11                                         \n",
      "Covariance Type:            nonrobust                                         \n",
      "===================================================================================\n",
      "                      coef    std err          t      P>|t|      [0.025      0.975]\n",
      "-----------------------------------------------------------------------------------\n",
      "const            9897.9355     38.969    253.996      0.000    9821.476    9974.395\n",
      "Age             -2146.7383     54.669    -39.268      0.000   -2254.003   -2039.474\n",
      "Mileage          -576.9483     54.737    -10.540      0.000    -684.345    -469.551\n",
      "HP                738.4658     91.713      8.052      0.000     558.519     918.412\n",
      "MetColor           25.5901     39.363      0.650      0.516     -51.643     102.823\n",
      "Automatic          55.8035     40.128      1.391      0.165     -22.930     134.536\n",
      "CC               -520.2175    110.156     -4.723      0.000    -736.350    -304.085\n",
      "Doors              -8.3137     42.598     -0.195      0.845     -91.894      75.267\n",
      "Weight            864.5017     68.693     12.585      0.000     729.723     999.281\n",
      "FuelType_Diesel   846.3469    177.738      4.762      0.000     497.616    1195.078\n",
      "FuelType_Petrol   379.3374    129.189      2.936      0.003     125.861     632.814\n",
      "Inverse_Mileage   -63.1032     39.342     -1.604      0.109    -140.294      14.087\n",
      "==============================================================================\n",
      "Omnibus:                      116.281   Durbin-Watson:                   2.032\n",
      "Prob(Omnibus):                  0.000   Jarque-Bera (JB):              842.140\n",
      "Skew:                          -0.036   Prob(JB):                    1.35e-183\n",
      "Kurtosis:                       7.197   Cond. No.                         10.3\n",
      "==============================================================================\n",
      "\n",
      "Notes:\n",
      "[1] Standard Errors assume that the covariance matrix of the errors is correctly specified.\n"
     ]
    }
   ],
   "source": [
    "#TODO\n",
    "\n",
    "\n",
    "X_train_inv = X_train.copy()\n",
    "\n",
    "X_train_inv[\"Inverse_Mileage\"] = 1 / X_train_inv[\"Mileage\"]\n",
    "\n",
    "scaler_inv = StandardScaler()\n",
    "X_train_inv_scaled_array = scaler_inv.fit_transform(X_train_inv)\n",
    "X_train_inv_scaled = pd.DataFrame(X_train_inv_scaled_array, columns=X_train_inv.columns, index=X_train_inv.index)\n",
    "\n",
    "X_train_inv_scaled_const = sm.add_constant(X_train_inv_scaled)\n",
    "\n",
    "# Train the OLS model with the inverse mileage term\n",
    "model_inv = sm.OLS(y_train, X_train_inv_scaled_const).fit()\n",
    "\n",
    "\n",
    "print(model_inv.summary())\n"
   ]
  },
  {
   "cell_type": "markdown",
   "id": "71a2f0aa",
   "metadata": {},
   "source": [
    "the Inverse Mileage term is NOT statistically significant (p > 0.05), meaning it does not provide useful predictive power.\n",
    "\n"
   ]
  },
  {
   "cell_type": "markdown",
   "id": "1a3c61dc",
   "metadata": {},
   "source": [
    "## Part 3 Supervised Learning (40 pts)\n",
    "\n",
    "\n",
    "After completing your analysis, you're satisfied with the results. You handed the Jupyter notebook over to your mentor.\n",
    "\n",
    "(Fun fact: The name \"Jupyter\" is derived from Julia, Python, and R—three programming languages that the platform was originally designed for.)\n",
    "\n",
    "Your mentor Jerasimosu is very impressed with your work and asks you the following question:\n",
    "\n",
    "“\n",
    "This looks great! It will be very useful for our sales team. While looking at the results, I realized that there might be one thing that we can improve. \n",
    "For companies like us, it is important to sell the cars quickly. If we are patient, we might be able to sell the car for a higher price, but that’s not always the best strategy. We need to consider the maintenance costs for the car, the cash flow and the fact that the price of the car decreases over time.\"\n",
    "\n",
    "He then continues:\n",
    "\"Three months is a sweet spot for us. If we can sell the car within the first three months, it is great. If not, it is worth considering lowering the price to sell it faster and increase our cash flow. I can ask Ivan from Sales to collect data in the last few months on whether the car was sold within the first three months or not. This would be great if you could have a model that tells us if the car will be sold in the first three months or not. \"\n",
    "\n",
    "This sparks your interest, and soon Ivan has provided you with the new data containing an additional column `sold_within_3_months` which is a binary variable indicating whether the car was sold within the first three months or not.\n",
    "\n",
    "Note: The data for this part is in the file `Task3.ToyotaCorolla_sales_3months.csv` and it has already unified the currency and distance units."
   ]
  },
  {
   "cell_type": "code",
   "execution_count": 305,
   "id": "5371de93",
   "metadata": {},
   "outputs": [
    {
     "name": "stdout",
     "output_type": "stream",
     "text": [
      "   Price  Age     KM FuelType  HP  MetColor  Automatic    CC  Doors  Weight  \\\n",
      "0  13500   23  46986   Diesel  90         1          0  2000      3    1165   \n",
      "1  13750   23  72937   Diesel  90         1          0  2000      3    1165   \n",
      "2  13950   24  41711   Diesel  90         1          0  2000      3    1165   \n",
      "3  14950   26  48000   Diesel  90         0          0  2000      3    1165   \n",
      "4  13750   30  38500   Diesel  90         0          0  2000      3    1170   \n",
      "\n",
      "   sold_within_3_months  \n",
      "0                     0  \n",
      "1                     0  \n",
      "2                     0  \n",
      "3                     0  \n",
      "4                     0  \n"
     ]
    }
   ],
   "source": [
    "data_df = pd.read_csv('data/Task3.ToyotaCorolla_sales_3months.csv', index_col=0)\n",
    "print(data_df.head())"
   ]
  },
  {
   "cell_type": "markdown",
   "id": "87af3424",
   "metadata": {},
   "source": [
    "\n",
    "**3.1 (2 pts): Preprocess the Data**\n",
    "- （1 pts）How many cars in the dataset were sold in the first three months, and how many were not? "
   ]
  },
  {
   "cell_type": "code",
   "execution_count": 306,
   "id": "714cefb1",
   "metadata": {},
   "outputs": [
    {
     "name": "stdout",
     "output_type": "stream",
     "text": [
      "Cars sold within 3 months (1): 880\n",
      "Cars not sold within 3 months (0): 556\n"
     ]
    }
   ],
   "source": [
    "#TODO\n",
    "sold_counts = data_df['sold_within_3_months'].value_counts()\n",
    "\n",
    "print(\"Cars sold within 3 months (1):\", sold_counts.get(1, 0))\n",
    "print(\"Cars not sold within 3 months (0):\", sold_counts.get(0, 0))"
   ]
  },
  {
   "cell_type": "markdown",
   "id": "eb49dc91",
   "metadata": {},
   "source": [
    "- (1 pts) Preprocess the categorical variables to one-hot encoding using the `pd.get_dummies()` function."
   ]
  },
  {
   "cell_type": "code",
   "execution_count": 307,
   "id": "e9ca7824",
   "metadata": {},
   "outputs": [
    {
     "name": "stdout",
     "output_type": "stream",
     "text": [
      "   Price  Age     KM  HP  MetColor  Automatic    CC  Doors  Weight  \\\n",
      "0  13500   23  46986  90         1          0  2000      3    1165   \n",
      "1  13750   23  72937  90         1          0  2000      3    1165   \n",
      "2  13950   24  41711  90         1          0  2000      3    1165   \n",
      "3  14950   26  48000  90         0          0  2000      3    1165   \n",
      "4  13750   30  38500  90         0          0  2000      3    1170   \n",
      "\n",
      "   sold_within_3_months  FuelType_Diesel  FuelType_Petrol  \n",
      "0                     0                1                0  \n",
      "1                     0                1                0  \n",
      "2                     0                1                0  \n",
      "3                     0                1                0  \n",
      "4                     0                1                0  \n"
     ]
    }
   ],
   "source": [
    "#TODO\n",
    "\n",
    "data_df_encoded = pd.get_dummies(data_df, drop_first=True)\n",
    "\n",
    "# Print the first few rows to verify\n",
    "print(data_df_encoded.head())\n"
   ]
  },
  {
   "cell_type": "markdown",
   "id": "1449cf1c",
   "metadata": {},
   "source": [
    "**3.2 (20 pts):  Logistic Regression Model**\n",
    "1. (2 pts) Split the data into features (X) and target (y) variables. The target variable is the 'sold_within_3_months' column. The `Price` column should be included as a feature."
   ]
  },
  {
   "cell_type": "code",
   "execution_count": 308,
   "id": "bda17a69",
   "metadata": {},
   "outputs": [],
   "source": [
    "#TODO\n",
    "\n",
    "X = data_df_encoded.drop(\"sold_within_3_months\", axis=1) \n",
    "y = data_df_encoded[\"sold_within_3_months\"]            "
   ]
  },
  {
   "cell_type": "markdown",
   "id": "28393827",
   "metadata": {},
   "source": [
    "2. (2 pts) Then split the data into train test sets using a 80-20 split. Use `random_state=42` for reproducibility. "
   ]
  },
  {
   "cell_type": "code",
   "execution_count": 309,
   "id": "7416161f",
   "metadata": {},
   "outputs": [
    {
     "name": "stdout",
     "output_type": "stream",
     "text": [
      "Training set samples: 1148\n",
      "Test set samples: 288\n"
     ]
    }
   ],
   "source": [
    "#TODO\n",
    "\n",
    "\n",
    "\n",
    "X_train, X_test, y_train, y_test = train_test_split(X, y, test_size=0.2, random_state=42)\n",
    "\n",
    "\n",
    "print(\"Training set samples:\", X_train.shape[0])\n",
    "print(\"Test set samples:\", X_test.shape[0])\n"
   ]
  },
  {
   "cell_type": "markdown",
   "id": "d43f0fbf",
   "metadata": {},
   "source": [
    "3. (2 pts) Standardize the features using `StandardScaler` from `sklearn.preprocessing` and then add a constant column using `sm.add_constant()`."
   ]
  },
  {
   "cell_type": "code",
   "execution_count": 310,
   "id": "16bfc69e",
   "metadata": {},
   "outputs": [],
   "source": [
    "#TODO\n",
    "\n",
    "\n",
    "# Standardize the features in the training set\n",
    "X_train_scaled_array = scaler.fit_transform(X_train)\n",
    "X_train_scaled = pd.DataFrame(X_train_scaled_array, columns=X_train.columns, index=X_train.index)\n",
    "X_train_scaled_const = sm.add_constant(X_train_scaled)\n",
    "\n",
    "# Standardize the features in the test set using the same scaler\n",
    "X_test_scaled_array = scaler.transform(X_test)\n",
    "X_test_scaled = pd.DataFrame(X_test_scaled_array, columns=X_test.columns, index=X_test.index)\n",
    "X_test_scaled_const = sm.add_constant(X_test_scaled)\n",
    "\n"
   ]
  },
  {
   "cell_type": "markdown",
   "id": "1b7029f6",
   "metadata": {},
   "source": [
    "4. (2 pts) Fit a logistic regression model on the training dataset. Feel free to use either `statsmodels` or `sklearn`."
   ]
  },
  {
   "cell_type": "code",
   "execution_count": 311,
   "id": "4d7e52e6",
   "metadata": {},
   "outputs": [
    {
     "name": "stdout",
     "output_type": "stream",
     "text": [
      "Optimization terminated successfully.\n",
      "         Current function value: 0.165946\n",
      "         Iterations 10\n",
      "                            Logit Regression Results                            \n",
      "================================================================================\n",
      "Dep. Variable:     sold_within_3_months   No. Observations:                 1148\n",
      "Model:                            Logit   Df Residuals:                     1136\n",
      "Method:                             MLE   Df Model:                           11\n",
      "Date:                  Wed, 19 Feb 2025   Pseudo R-squ.:                  0.7510\n",
      "Time:                          23:44:22   Log-Likelihood:                -190.51\n",
      "converged:                         True   LL-Null:                       -765.10\n",
      "Covariance Type:              nonrobust   LLR p-value:                1.435e-239\n",
      "===================================================================================\n",
      "                      coef    std err          z      P>|z|      [0.025      0.975]\n",
      "-----------------------------------------------------------------------------------\n",
      "const              -0.3879      0.168     -2.310      0.021      -0.717      -0.059\n",
      "Price              -9.9911      0.880    -11.347      0.000     -11.717      -8.265\n",
      "Age                -0.6125      0.318     -1.926      0.054      -1.236       0.011\n",
      "KM                 -0.2566      0.210     -1.221      0.222      -0.668       0.155\n",
      "HP                 -1.5382      0.653     -2.356      0.018      -2.818      -0.259\n",
      "MetColor            0.1443      0.129      1.118      0.264      -0.109       0.397\n",
      "Automatic          -0.1458      0.130     -1.125      0.261      -0.400       0.108\n",
      "CC                  1.6195      0.674      2.404      0.016       0.299       2.940\n",
      "Doors              -0.0320      0.165     -0.194      0.846      -0.356       0.292\n",
      "Weight              0.0605      0.429      0.141      0.888      -0.780       0.901\n",
      "FuelType_Diesel    -2.0279      1.024     -1.980      0.048      -4.036      -0.020\n",
      "FuelType_Petrol     0.0562      0.579      0.097      0.923      -1.078       1.191\n",
      "===================================================================================\n",
      "\n",
      "Possibly complete quasi-separation: A fraction 0.20 of observations can be\n",
      "perfectly predicted. This might indicate that there is complete\n",
      "quasi-separation. In this case some parameters will not be identified.\n"
     ]
    }
   ],
   "source": [
    "#TODO\n",
    "import statsmodels.api as sm\n",
    "\n",
    "logit_model = sm.Logit(y_train, X_train_scaled_const).fit()\n",
    "\n",
    "\n",
    "print(logit_model.summary())\n"
   ]
  },
  {
   "cell_type": "markdown",
   "id": "e0c3b275",
   "metadata": {},
   "source": [
    "5. (2 pts) Evaluate the model on the test dataset using the accuracy score metric. Report the accuracy score."
   ]
  },
  {
   "cell_type": "code",
   "execution_count": 312,
   "id": "2152d2dc",
   "metadata": {},
   "outputs": [
    {
     "name": "stdout",
     "output_type": "stream",
     "text": [
      "Accuracy score on the test dataset: 0.9305555555555556\n"
     ]
    }
   ],
   "source": [
    "#TODO\n",
    "from sklearn.metrics import accuracy_score\n",
    "\n",
    "\n",
    "y_test_pred_prob = logit_model.predict(X_test_scaled_const)\n",
    "\n",
    "# Convert probabilities to binary predictions (threshold 0.5)\n",
    "y_test_pred = (y_test_pred_prob >= 0.5).astype(int)\n",
    "\n",
    "# Compute the accuracy score on the test set\n",
    "accuracy = accuracy_score(y_test, y_test_pred)\n",
    "print(\"Accuracy score on the test dataset:\", accuracy)\n"
   ]
  },
  {
   "cell_type": "markdown",
   "id": "07b5d10b",
   "metadata": {},
   "source": [
    "6. (2 pts) Calculate the precision, recall, and F1-score."
   ]
  },
  {
   "cell_type": "code",
   "execution_count": 313,
   "id": "93ef377c",
   "metadata": {},
   "outputs": [
    {
     "name": "stdout",
     "output_type": "stream",
     "text": [
      "Precision: 0.9375\n",
      "Recall: 0.9482758620689655\n",
      "F1-score: 0.9428571428571428\n"
     ]
    }
   ],
   "source": [
    "#TODO\n",
    "\n",
    "from sklearn.metrics import precision_score, recall_score, f1_score\n",
    "\n",
    "# Calculate precision, recall, and F1-score\n",
    "precision = precision_score(y_test, y_test_pred)\n",
    "recall = recall_score(y_test, y_test_pred)\n",
    "f1 = f1_score(y_test, y_test_pred)\n",
    "\n",
    "print(\"Precision:\", precision)\n",
    "print(\"Recall:\", recall)\n",
    "print(\"F1-score:\", f1)\n"
   ]
  },
  {
   "cell_type": "markdown",
   "id": "b83bb422",
   "metadata": {},
   "source": [
    "7. (2 pts) Suppose that your company is running short on cash flow and needs to sell the cars quickly, for example by running some offer (special discount on cars). But which ones? How should you adjust the threshold for the decision boundary of the logistic regression model to ensure that the company can sell the cars as quickly as possible?\n",
    "    - A. Increase the threshold\n",
    "    - B. Decrease the threshold\n",
    "\n",
    "In a more general sense, how does the choice of threshold affect the precision and recall of the model?"
   ]
  },
  {
   "cell_type": "markdown",
   "id": "e1951dc8",
   "metadata": {},
   "source": [
    "Your Response:\n",
    "\n",
    "//*\n",
    "\n",
    "B. Decrease the threshold.\n",
    "\n",
    "Lowering the threshold means more cars are predicted as \"sold within 3 months.\" This increases the recall (fewer false negatives) but may lower precision (more false positives).\n",
    "Selling quickly is a priority, so it's better to err on the side of predicting that a car will sell quickly (increasing recall) even if some predictions are incorrect.\n",
    "\n",
    "\n",
    "\n",
    "\n",
    "*//"
   ]
  },
  {
   "cell_type": "markdown",
   "id": "f77a1414",
   "metadata": {},
   "source": [
    "8. (6 pts) Try to find the optimal threshold that maximizes the F1-score. Implement any kind of method you see fit (e.g. binary search or grid search). What is the optimal threshold and what difference does the optimal threshold make in the F1-score?\n",
    "\n",
    "If you notice anything odd, report it and try to identify the reasons behind it."
   ]
  },
  {
   "cell_type": "code",
   "execution_count": 314,
   "id": "ecc90348",
   "metadata": {
    "scrolled": true
   },
   "outputs": [
    {
     "name": "stdout",
     "output_type": "stream",
     "text": [
      "Optimal threshold: 0.49\n",
      "Optimal F1-score: 0.9458689458689458\n"
     ]
    }
   ],
   "source": [
    "#TODO\n",
    "\n",
    "# Get predicted probabilities for the test set\n",
    "y_probs = logit_model.predict(X_test_scaled_const)\n",
    "\n",
    "# Define a grid of thresholds from 0 to 1 (step 0.01)\n",
    "thresholds = np.linspace(0, 1, 101)\n",
    "\n",
    "# Initialize variables to store the best threshold and highest F1-score\n",
    "best_thresh = 0.5\n",
    "best_f1 = 0.0\n",
    "\n",
    "# Loop over thresholds and compute F1-score for each\n",
    "for thresh in thresholds:\n",
    "    y_pred_thresh = (y_probs >= thresh).astype(int)\n",
    "    f1 = f1_score(y_test, y_pred_thresh)\n",
    "    if f1 > best_f1:\n",
    "        best_f1 = f1\n",
    "        best_thresh = thresh\n",
    "\n",
    "print(\"Optimal threshold:\", best_thresh)\n",
    "print(\"Optimal F1-score:\", best_f1)\n"
   ]
  },
  {
   "cell_type": "markdown",
   "id": "310ef7cc",
   "metadata": {},
   "source": [
    "Very minor difference in theshold. This small change indicates that the model's performance in balancing precision and recall is already near optimal with the default threshold.\n",
    "Also, the model's performance might be inherently limited by the variability in the data."
   ]
  },
  {
   "cell_type": "markdown",
   "id": "53796e48",
   "metadata": {},
   "source": [
    "**3.3(23 pts) Free model exploration**\n",
    "\n",
    "Use any model from `sklearn` to predict whether a car will be sold within the first three months.\n",
    "\n",
    "Follow these steps to complete the task:\n",
    "\n",
    "1. (2 pts) Train your own classifier model to predict the target variable (`sold_within_3_months`).You can reuse the train and test sets from the previous section. Set `random_state=42` for reproducibility if needed. At this stage no need to optimize (yet). That will come at step 4."
   ]
  },
  {
   "cell_type": "code",
   "execution_count": 315,
   "id": "847d2270",
   "metadata": {},
   "outputs": [
    {
     "data": {
      "text/html": [
       "<style>#sk-container-id-2 {color: black;background-color: white;}#sk-container-id-2 pre{padding: 0;}#sk-container-id-2 div.sk-toggleable {background-color: white;}#sk-container-id-2 label.sk-toggleable__label {cursor: pointer;display: block;width: 100%;margin-bottom: 0;padding: 0.3em;box-sizing: border-box;text-align: center;}#sk-container-id-2 label.sk-toggleable__label-arrow:before {content: \"▸\";float: left;margin-right: 0.25em;color: #696969;}#sk-container-id-2 label.sk-toggleable__label-arrow:hover:before {color: black;}#sk-container-id-2 div.sk-estimator:hover label.sk-toggleable__label-arrow:before {color: black;}#sk-container-id-2 div.sk-toggleable__content {max-height: 0;max-width: 0;overflow: hidden;text-align: left;background-color: #f0f8ff;}#sk-container-id-2 div.sk-toggleable__content pre {margin: 0.2em;color: black;border-radius: 0.25em;background-color: #f0f8ff;}#sk-container-id-2 input.sk-toggleable__control:checked~div.sk-toggleable__content {max-height: 200px;max-width: 100%;overflow: auto;}#sk-container-id-2 input.sk-toggleable__control:checked~label.sk-toggleable__label-arrow:before {content: \"▾\";}#sk-container-id-2 div.sk-estimator input.sk-toggleable__control:checked~label.sk-toggleable__label {background-color: #d4ebff;}#sk-container-id-2 div.sk-label input.sk-toggleable__control:checked~label.sk-toggleable__label {background-color: #d4ebff;}#sk-container-id-2 input.sk-hidden--visually {border: 0;clip: rect(1px 1px 1px 1px);clip: rect(1px, 1px, 1px, 1px);height: 1px;margin: -1px;overflow: hidden;padding: 0;position: absolute;width: 1px;}#sk-container-id-2 div.sk-estimator {font-family: monospace;background-color: #f0f8ff;border: 1px dotted black;border-radius: 0.25em;box-sizing: border-box;margin-bottom: 0.5em;}#sk-container-id-2 div.sk-estimator:hover {background-color: #d4ebff;}#sk-container-id-2 div.sk-parallel-item::after {content: \"\";width: 100%;border-bottom: 1px solid gray;flex-grow: 1;}#sk-container-id-2 div.sk-label:hover label.sk-toggleable__label {background-color: #d4ebff;}#sk-container-id-2 div.sk-serial::before {content: \"\";position: absolute;border-left: 1px solid gray;box-sizing: border-box;top: 0;bottom: 0;left: 50%;z-index: 0;}#sk-container-id-2 div.sk-serial {display: flex;flex-direction: column;align-items: center;background-color: white;padding-right: 0.2em;padding-left: 0.2em;position: relative;}#sk-container-id-2 div.sk-item {position: relative;z-index: 1;}#sk-container-id-2 div.sk-parallel {display: flex;align-items: stretch;justify-content: center;background-color: white;position: relative;}#sk-container-id-2 div.sk-item::before, #sk-container-id-2 div.sk-parallel-item::before {content: \"\";position: absolute;border-left: 1px solid gray;box-sizing: border-box;top: 0;bottom: 0;left: 50%;z-index: -1;}#sk-container-id-2 div.sk-parallel-item {display: flex;flex-direction: column;z-index: 1;position: relative;background-color: white;}#sk-container-id-2 div.sk-parallel-item:first-child::after {align-self: flex-end;width: 50%;}#sk-container-id-2 div.sk-parallel-item:last-child::after {align-self: flex-start;width: 50%;}#sk-container-id-2 div.sk-parallel-item:only-child::after {width: 0;}#sk-container-id-2 div.sk-dashed-wrapped {border: 1px dashed gray;margin: 0 0.4em 0.5em 0.4em;box-sizing: border-box;padding-bottom: 0.4em;background-color: white;}#sk-container-id-2 div.sk-label label {font-family: monospace;font-weight: bold;display: inline-block;line-height: 1.2em;}#sk-container-id-2 div.sk-label-container {text-align: center;}#sk-container-id-2 div.sk-container {/* jupyter's `normalize.less` sets `[hidden] { display: none; }` but bootstrap.min.css set `[hidden] { display: none !important; }` so we also need the `!important` here to be able to override the default hidden behavior on the sphinx rendered scikit-learn.org. See: https://github.com/scikit-learn/scikit-learn/issues/21755 */display: inline-block !important;position: relative;}#sk-container-id-2 div.sk-text-repr-fallback {display: none;}</style><div id=\"sk-container-id-2\" class=\"sk-top-container\"><div class=\"sk-text-repr-fallback\"><pre>RandomForestClassifier(random_state=42)</pre><b>In a Jupyter environment, please rerun this cell to show the HTML representation or trust the notebook. <br />On GitHub, the HTML representation is unable to render, please try loading this page with nbviewer.org.</b></div><div class=\"sk-container\" hidden><div class=\"sk-item\"><div class=\"sk-estimator sk-toggleable\"><input class=\"sk-toggleable__control sk-hidden--visually\" id=\"sk-estimator-id-2\" type=\"checkbox\" checked><label for=\"sk-estimator-id-2\" class=\"sk-toggleable__label sk-toggleable__label-arrow\">RandomForestClassifier</label><div class=\"sk-toggleable__content\"><pre>RandomForestClassifier(random_state=42)</pre></div></div></div></div></div>"
      ],
      "text/plain": [
       "RandomForestClassifier(random_state=42)"
      ]
     },
     "execution_count": 315,
     "metadata": {},
     "output_type": "execute_result"
    }
   ],
   "source": [
    "#TODO\n",
    "from sklearn.ensemble import RandomForestClassifier\n",
    "from sklearn.metrics import accuracy_score\n",
    "\n",
    "\n",
    "clf = RandomForestClassifier(random_state=42)\n",
    "\n",
    "\n",
    "clf.fit(X_train, y_train)\n"
   ]
  },
  {
   "cell_type": "markdown",
   "id": "339e84a7",
   "metadata": {},
   "source": [
    "2. (2 pts) Evaluate the model on the test set and report on hyperparameters or other details of the algorithm you chose."
   ]
  },
  {
   "cell_type": "code",
   "execution_count": 316,
   "id": "f91de524",
   "metadata": {},
   "outputs": [
    {
     "name": "stdout",
     "output_type": "stream",
     "text": [
      "Test Set Accuracy: 0.9305555555555556\n",
      "\n",
      "Classification Report:\n",
      "              precision    recall  f1-score   support\n",
      "\n",
      "           0       0.94      0.89      0.91       114\n",
      "           1       0.93      0.96      0.94       174\n",
      "\n",
      "    accuracy                           0.93       288\n",
      "   macro avg       0.93      0.92      0.93       288\n",
      "weighted avg       0.93      0.93      0.93       288\n",
      "\n",
      "\n",
      "Confusion Matrix:\n",
      "[[101  13]\n",
      " [  7 167]]\n",
      "\n",
      "RandomForestClassifier Hyperparameters:\n",
      "{'bootstrap': True, 'ccp_alpha': 0.0, 'class_weight': None, 'criterion': 'gini', 'max_depth': None, 'max_features': 'sqrt', 'max_leaf_nodes': None, 'max_samples': None, 'min_impurity_decrease': 0.0, 'min_samples_leaf': 1, 'min_samples_split': 2, 'min_weight_fraction_leaf': 0.0, 'n_estimators': 100, 'n_jobs': None, 'oob_score': False, 'random_state': 42, 'verbose': 0, 'warm_start': False}\n"
     ]
    }
   ],
   "source": [
    "#TODO\n",
    "\n",
    "from sklearn.metrics import classification_report, confusion_matrix, accuracy_score\n",
    "\n",
    "\n",
    "y_pred_rf = clf.predict(X_test)\n",
    "\n",
    "\n",
    "accuracy_rf = accuracy_score(y_test, y_pred_rf)\n",
    "print(\"Test Set Accuracy:\", accuracy_rf)\n",
    "\n",
    "print(\"\\nClassification Report:\")\n",
    "print(classification_report(y_test, y_pred_rf))\n",
    "\n",
    "print(\"\\nConfusion Matrix:\")\n",
    "print(confusion_matrix(y_test, y_pred_rf))\n",
    "\n",
    "\n",
    "print(\"\\nRandomForestClassifier Hyperparameters:\")\n",
    "print(clf.get_params())\n"
   ]
  },
  {
   "cell_type": "markdown",
   "id": "aeacddbc",
   "metadata": {},
   "source": [
    "3. (2 pts) Come up with a visualization (could be related to the model or to some variables (e.g. EDA plots) to demonstrate the difficulty (or not) of the problem. "
   ]
  },
  {
   "cell_type": "code",
   "execution_count": 317,
   "id": "3899ce00",
   "metadata": {},
   "outputs": [
    {
     "data": {
      "image/png": "[encoded data removed]",
      "text/plain": [
       "<Figure size 800x600 with 1 Axes>"
      ]
     },
     "metadata": {},
     "output_type": "display_data"
    }
   ],
   "source": [
    "#TODO\n",
    "\n",
    "\n",
    "\n",
    "plt.figure(figsize=(8,6))\n",
    "sns.scatterplot(x=\"Age\", y=\"Price\", hue=\"sold_within_3_months\", data=data_df, palette=\"viridis\")\n",
    "plt.xlabel(\"Age (months)\")\n",
    "plt.ylabel(\"Price (EUR)\")\n",
    "plt.title(\"Scatter Plot: Age vs Price by Sale Outcome\")\n",
    "plt.legend(title=\"Sold within 3 months\")\n",
    "plt.show()\n"
   ]
  },
  {
   "cell_type": "markdown",
   "id": "c18a077e",
   "metadata": {},
   "source": [
    "- Older, cheaper cars are more likely to sell (cluster of green dots at lower prices and higher ages).\n",
    "- Some overlap exists → Not all old, cheap cars sell, and not all expensive cars remain unsold.\n",
    "- Other factors (e.g., brand, mileage, fuel type) likely influence sales beyond just age and price."
   ]
  },
  {
   "cell_type": "markdown",
   "id": "294f27b0",
   "metadata": {},
   "source": [
    "4. (17 pts) Try to come up with a model that improves the results both in the previous seciton but also your baseline model in 3.1. Make to sure to properly evaluate the model. No need to provide a visualization here but feel free to add any supporting evidence to your modeling.\n",
    "\n",
    "Minimally (and for a high-grade) you should consider some form of regularization and proper cross-validation. \n",
    "\n",
    "Other things you can consider (in no particular order) are feature engineering, model robustness, hyperparameter tuning, ..."
   ]
  },
  {
   "cell_type": "code",
   "execution_count": 318,
   "id": "c23ea3be",
   "metadata": {},
   "outputs": [
    {
     "name": "stdout",
     "output_type": "stream",
     "text": [
      "Optimized Logistic Regression with CV:\n",
      "Test Accuracy: 0.9340277777777778\n",
      "Test Precision: 0.9378531073446328\n",
      "Test Recall: 0.9540229885057471\n",
      "Test F1-score: 0.9458689458689458\n",
      "Best C (inverse of regularization strength): [2.7825594]\n",
      "\n",
      "Classification Report:\n",
      "              precision    recall  f1-score   support\n",
      "\n",
      "           0       0.93      0.90      0.92       114\n",
      "           1       0.94      0.95      0.95       174\n",
      "\n",
      "    accuracy                           0.93       288\n",
      "   macro avg       0.93      0.93      0.93       288\n",
      "weighted avg       0.93      0.93      0.93       288\n",
      "\n"
     ]
    }
   ],
   "source": [
    "from sklearn.linear_model import LogisticRegressionCV\n",
    "from sklearn.metrics import accuracy_score, precision_score, recall_score, f1_score, classification_report\n",
    "\n",
    "# Create a LogisticRegressionCV model using L2 regularization\n",
    "# - cv=5: 5-fold cross-validation on the training set\n",
    "logreg_cv = LogisticRegressionCV(cv=5, penalty='l2', scoring='f1', random_state=42, max_iter=1000)\n",
    "logreg_cv.fit(X_train_scaled, y_train)\n",
    "\n",
    "# Predict on the test set\n",
    "y_pred_cv = logreg_cv.predict(X_test_scaled)\n",
    "\n",
    "# Evaluate performance on the test set\n",
    "accuracy_cv = accuracy_score(y_test, y_pred_cv)\n",
    "precision_cv = precision_score(y_test, y_pred_cv)\n",
    "recall_cv = recall_score(y_test, y_pred_cv)\n",
    "f1_cv = f1_score(y_test, y_pred_cv)\n",
    "\n",
    "print(\"Optimized Logistic Regression with CV:\")\n",
    "print(\"Test Accuracy:\", accuracy_cv)\n",
    "print(\"Test Precision:\", precision_cv)\n",
    "print(\"Test Recall:\", recall_cv)\n",
    "print(\"Test F1-score:\", f1_cv)\n",
    "print(\"Best C (inverse of regularization strength):\", logreg_cv.C_)\n",
    "\n",
    "print(\"\\nClassification Report:\")\n",
    "print(classification_report(y_test, y_pred_cv))\n"
   ]
  },
  {
   "cell_type": "markdown",
   "id": "9f7cd472",
   "metadata": {},
   "source": [
    "There is a modest improvement. For example, the F1-score increased from about 0.9429 with the original logit model to approximately 0.9459 with the optimized logistic regression using cross-validation. The test accuracy also improved slightly from roughly 93.06% to 93.40% among other minor improvements. \n",
    "\n",
    "This suggests that tuning the regularization parameter (with a best C of around 2.78) and using cross-validation yielded a model that performs slightly better in balancing precision and recall. \n",
    "\n",
    "It’s a small improvement—but hey, in business, even a fraction of a percent can be the difference between a victory lap and an existential crisis;)"
   ]
  },
  {
   "cell_type": "markdown",
   "id": "89384315",
   "metadata": {},
   "source": [
    "## Part 4 The Aftermath (5 pts)\n",
    "\n",
    "Machine learning models are often evaluated based on accuracy, precision and recall, but these metrics do not always capture fairness. Fairness is a broader concept that depends on the context of the dataset and the decisions influenced by the model.\n",
    "\n",
    "For this last question, you are asked to reflect on what fairness means in the context of this problem. More specifically, identify potential fairness concerns (at least 2) and suggest how they could be measured or mitigated.\n",
    "Explain why fairness matters (or doesn’t) in this specific context.\n",
    "\n",
    "*Hint: Think of the whole pipeline of data science: data collection, modeling, evaluation and identify sources of where the model might be unfair.*\n"
   ]
  },
  {
   "cell_type": "markdown",
   "id": "5cd5ceda",
   "metadata": {},
   "source": [
    "Your Response:\n",
    "\n",
    "//*\n",
    "\n",
    "\n",
    "Fairness concerns:\n",
    "\n",
    "1. Data Collection Bias\n",
    "\n",
    "Issue: Overrepresentation of certain car types (e.g., Diesel) may lead to biased predictions.\n",
    "Measurement: Check class imbalance and evaluate model performance across different car categories.\n",
    "Mitigation: Collect more diverse data, oversample underrepresented groups, etc.\n",
    "\n",
    "2. Bias in Feature Importance\n",
    "\n",
    "Issue: Some features (e.g., fuel type, weight) might heavily influence predictions, potentially leading to unfair decisions.\n",
    "Measurement: Analyze feature importance and check if certain features dominate predictions disproportionately.\n",
    "Mitigation: Use regularization to reduce over-reliance on specific features and test model performance with/without certain variables.\n",
    "\n",
    "3. Historical Pricing Bias\n",
    "\n",
    "Issue: If past pricing decisions were biased (e.g., certain car types were historically overpriced/underpriced), the model could reinforce those biases.\n",
    "Measurement: Compare model predictions to historical pricing trends.\n",
    "Mitigation: Use a debiased dataset for training and ensure the model isn't just replicating past pricing patterns.\n",
    "\n",
    "\n",
    "\n",
    "Why Fairness Matters:\n",
    " \n",
    "- Customer Trust & Ethics – Biased pricing strategies can hurt the dealership’s reputation.\n",
    "- Financial Risks – Incorrect predictions may lead to unnecessary price drops, reducing profits.\n",
    "- Regulatory Compliance – Unfair pricing adjustments could raise legal concerns.\n",
    "\n",
    "\n",
    "*//"
   ]
  }
 ],
 "metadata": {
  "kernelspec": {
   "display_name": "Python 3 (ipykernel)",
   "language": "python",
   "name": "python3"
  },
  "language_info": {
   "codemirror_mode": {
    "name": "ipython",
    "version": 3
   },
   "file_extension": ".py",
   "mimetype": "text/x-python",
   "name": "python",
   "nbconvert_exporter": "python",
   "pygments_lexer": "ipython3",
   "version": "3.10.9"
  }
 },
 "nbformat": 4,
 "nbformat_minor": 5
}
